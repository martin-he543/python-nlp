{
 "cells": [
  {
   "cell_type": "markdown",
   "metadata": {},
   "source": [
    "___\n",
    "\n",
    "<a href='http://www.pieriandata.com'> <img src='../Pierian_Data_Logo.png' /></a>\n",
    "___"
   ]
  },
  {
   "cell_type": "markdown",
   "metadata": {},
   "source": [
    "# Non-Negative Matric Factorization\n",
    "\n",
    "Let's repeat thet opic modeling task from the previous lecture, but this time, we will use NMF instead of LDA."
   ]
  },
  {
   "cell_type": "markdown",
   "metadata": {},
   "source": [
    "## Data\n",
    "\n",
    "We will be using articles scraped from NPR (National Public Radio), obtained from their website [www.npr.org](http://www.npr.org)"
   ]
  },
  {
   "cell_type": "code",
   "execution_count": 1,
   "metadata": {
    "collapsed": true
   },
   "outputs": [],
   "source": [
    "import pandas as pd"
   ]
  },
  {
   "cell_type": "code",
   "execution_count": 2,
   "metadata": {
    "collapsed": true
   },
   "outputs": [],
   "source": [
    "npr = pd.read_csv('npr.csv')"
   ]
  },
  {
   "cell_type": "code",
   "execution_count": 3,
   "metadata": {},
   "outputs": [
    {
     "data": {
      "application/vnd.microsoft.datawrangler.viewer.v0+json": {
       "columns": [
        {
         "name": "index",
         "rawType": "int64",
         "type": "integer"
        },
        {
         "name": "Article",
         "rawType": "object",
         "type": "string"
        }
       ],
       "ref": "2ed0a6f9-c38f-4294-93a4-f0c015d50736",
       "rows": [
        [
         "0",
         "In the Washington of 2016, even when the policy can be bipartisan, the politics cannot. And in that sense, this year shows little sign of ending on Dec. 31. When President Obama moved to sanction Russia over its alleged interference in the U. S. election just concluded, some Republicans who had long called for similar or more severe measures could scarcely bring themselves to approve. House Speaker Paul Ryan called the Obama measures ”appropriate” but also ”overdue” and ”a prime example of this administration’s ineffective foreign policy that has left America weaker in the eyes of the world.” Other GOP leaders sounded much the same theme. ”[We have] been urging President Obama for years to take strong action to deter Russia’s worldwide aggression, including its   operations,” wrote Rep. Devin Nunes,  . chairman of the House Intelligence Committee. ”Now with just a few weeks left in office, the president has suddenly decided that some stronger measures are indeed warranted.” Appearing on CNN, frequent Obama critic Trent Franks,  . called for ”much tougher” actions and said three times that Obama had ”finally found his tongue.” Meanwhile, at    and on Fox News, various spokesmen for   Trump said Obama’s real target was not the Russians at all but the man poised to take over the White House in less than three weeks. They spoke of Obama trying to ”tie Trump’s hands” or ”box him in,” meaning the   would be forced either to keep the sanctions or be at odds with Republicans who want to be tougher still on Moscow. Throughout 2016, Trump has repeatedly called not for sanctions but for closer ties with Russia, including cooperation in the fight against ISIS. Russia has battled ISIS in Syria on behalf of that country’s embattled dictator, Bashar Assad, bombing the besieged   city of Aleppo that fell to Assad’s forces this week. During the campaign, Trump even urged Russia to ”find” missing emails from the private server of his opponent, Hillary Clinton. He has exchanged public encomiums with Russian President Vladimir Putin on several occasions and added his doubts about the current U. S. levels of support for NATO  —   Putin’s longtime nemesis. There have also been suggestions that Trump’s extensive business dealings with various Russians are the reason he refuses to release his tax returns. All those issues have been disquieting to some Republicans for many months. Sens. John McCain,  . and Lindsay Graham,  . C. prominent senior members of the Armed Services Committee, have accepted the assessment of 17 U. S. intelligence agencies regarding the role of Russia in the hacking of various Democratic committees last year. That includes the FBI and CIA consensus that the Russian goal was not just to discredit American democracy but to defeat Clinton and elect Trump. They say the great majority of their Senate colleagues agree with them, and McCain has slated an Armed Services hearing on cyberthreats for Jan. 5. But the politicizing of the Russian actions  —   the idea that they helped Trump win  —   has also made the issue difficult for Republican leaders. It has allowed Trump supporters to push back on the intelligence agencies and say the entire issue is designed to undermine Trump’s legitimacy. Senate Majority Leader Mitch McConnell has so far resisted calls for a select committee to look into the Russian interference in the 2016 campaign. He has said it is enough for Sen. Richard Burr,  . C. to look into it as chairman of the Senate Intelligence Committee. Typically, Republican leaders and spokesmen say there is no evidence that the actual voting or tallying on Nov. 8 was compromised, and that is true. But it is also a red herring, as interference in those functions has not been alleged and is not the focus of the U. S. intelligence agencies’ concern. For his part, Trump has shown little interest in delving into what happened. He has cast doubt on the U. S. intelligence reports to date and suggested ”no one really knows what happened.” He also has suggested that computers make it very difficult to know who is using them. This week, Trump said it was time to ”get on with our lives and do more important things.” However, at week’s end he did agree to have an intelligence briefing on the subject next week. The   has not wanted the daily intelligence briefings available to him in recent weeks, preferring that they be given to the men he has chosen as his vice president (Mike Pence) and national security adviser (Mike Flynn) with Trump taking them only occasionally. The irony of this controversy arising at the eleventh hour of the Obama presidency can scarcely be overstated, and it defines the dilemma facing both the outgoing president and the incoming party in control. Obama appears to have been reluctant to retaliate against the Russian hacking before the election for fear of seeming to interfere with the election himself. The Republicans, meanwhile, have for years called for greater confrontation with the Russians, with Obama usually resisting. Obama did join with NATO in punishing the Russians with economic sanctions over the annexation of Crimea. Those sanctions may have been painful, coming as they did alongside falling prices for oil  —   the commodity that keeps the Russian economy afloat. On other occasions, despite Russian provocations through surrogates in Syria and elsewhere, Obama did not make overt moves to force Russia’s hand. That includes occasions when Russia was believed to be hacking critical computer systems in neighboring Ukraine, Estonia and Poland. But this week, following a chorus of confirmation from the U. S. intelligence community regarding the Russian role in computer hacking in the political campaign, Obama acted. He imposed a set of mostly diplomatic actions such as sanctioning some Russian officials, closing two diplomatic compounds and expelling 35 Russian diplomats. There may have been more damaging measures taken covertly, and some Russophobes in Washington held out hope for that. But the visible portion of the program scarcely amounted to major retribution. And Putin saw fit to diminish the Obama sanctions further by declining to respond. Although his government has steadfastly denied any interference in the U. S. election, Putin rejected his own foreign minister’s recommended package of    responses. (He even sent an invitation for U. S. diplomats to send their children to a holiday party in Moscow.) That allowed Putin to appear for the moment to be ”the bigger man,” even as he spurned Obama and kept up what has looked like a public bromance with Trump, who tweeted: ”Great move on delay (by V. Putin)   I always knew he was very smart!” At the moment it may seem that the overall Russia question amounts to the first crisis facing the Trump presidency. Whether forced by this campaign interference issue or not, Trump must grasp the nettle of a relationship Mitt Romney once called the greatest threat to U. S. security in the world. To be sure, Trump needs to dispel doubts about his ability to stand up to Putin, who has bullied and cajoled his way to center stage in recent world affairs. But Trump also seems determined to turn the page on past U. S. commitments, from free trade philosophy to funding of NATO and the United Nations. And if his Twitter account is any guide, Trump shows little concern about the conundrum others perceive to be facing him. Above all, Trump has shown himself determined to play by his own rules. A year ago, many were confident that would not work for him in the world of presidential politics. We are about to find out whether it works for him in the Oval Office."
        ],
        [
         "1",
         "  Donald Trump has used Twitter  —   his preferred means of communication  —   to weigh in on a swath of foreign policy issues over the past few weeks. His comments give a glimpse into how his incoming administration will deal with pressing foreign matters  —   but also highlight how reactionary comments on social media can immediately spur international concern and attention. And his staff has indicated that taking to Twitter to air his concerns or, often, grievances, won’t end once he enters the Oval Office. On Wednesday, Trump blasted the U. S.’s abstention from the U. N. Security Council vote on Israeli settlements earlier this month. The tweets came just hours before Secretary of State John Kerry gave a speech defending the decision and calling the continued building of settlements on Palestinian territory in the West Bank a threat to the   solution in the region. Trump’s support for Israel and Prime Minister Benjamin Netanyahu  —   who has had a fraught relationship with President Obama  —   may be the biggest forthcoming shift in immediate foreign policy between the outgoing and incoming administrations. Throughout the campaign, he pledged that his administration would be a steadfast ally of Israel. To underscore that, Netanyahu replied to one of Trump’s morning tweets, thanking him  —   and also his children Donald Jr. and Ivanka, who are close advisers  —   for their support. Ivanka converted to Judaism when she married her husband, Jared Kushner. An Israeli official told CNN the government will give the Trump administration ”detailed, sensitive information” proving that the U. S. worked to push through the resolution. The Obama administration has denied those claims. Last week, after the U. S. decided not to veto the resolution, Trump also tweeted that ”things will be different” come his inauguration, and then on Monday he again blasted the U. N. as ineffective. The Israeli settlement issue has been at the forefront in recent days, but last week Trump also weighed in on nuclear issues. In a tweet, Trump called for the U. S. to strengthen its nuclear arsenal. MSNBC’s Morning Joe reported that the   told them he wanted an ”arms race. We will outmatch them at every pass.” As the Washington Post’s Dan Zak told NPR’s Robert Siegel on All Things Considered last Friday, Trump was inconsistent in his statements about nuclear weapons during the campaign. ”Trump said, you know, he’d be the last to use nuclear weapons. Nuclear weapons are a horror. He seemed to understand what they’re capable of doing,” Zak said. ”At the same time, he said it was only a matter of time until countries like South Korea and Japan get nuclear weapons. He seemed to tacitly or not so tacitly endorse proliferation, again going against decades of international policy.” Trump also slammed China for its seizure of an unmanned U. S. Navy underwater drone, calling it ”unpresidented” in a tweet before correcting the typo in a new tweet. After talks with the Pentagon, China agreed to return the drone, but then Trump later said the country should keep it. It’s not the first time Trump has stoked tensions with China. In a stark break with protocol, Trump spoke on the phone with Taiwanese President Tsai   earlier this month. Beijing considers Taiwan to be a renegade province and doesn’t recognize it, and most other countries don’t either. The U. S. has operated under a ”one China” policy for more than four decades. Throughout the campaign, Trump blasted China for taking away U. S. jobs and claimed it was intentionally devaluing its currency to boost exports. He has blasted U. S. companies that manufacture goods in China, but as a New York Times story noted Wednesday morning, many of his daughter Ivanka’s clothing and shoe lines are made in China much of Trump’s own apparel line is also made overseas, including in China."
        ],
        [
         "2",
         "  Donald Trump is unabashedly praising Russian President Vladimir Putin, a day after outgoing President Obama issued tough sanctions against the country in response to alleged cyberattacks intended to influence the U. S. elections. In a tweet Friday afternoon, Trump responded to Putin’s decision not to expel U. S. diplomats from Russia in kind after Obama ordered 35 Russian diplomats to leave the country  —   admiring the Russian leader’s strategic approach over President Obama, which is the theme of Trump’s ongoing praise of Putin. Earlier Friday, Putin instead signaled he would wait to decide how to move forward until Trump takes office, giving him someone in the Oval Office who has been much friendlier and quite generous with his praise  —   a stark break from decades of U. S. foreign policy. The Russian Embassy in the U. S. also retweeted Trump’s post, which he pinned to his Twitter timeline so it would remain at the top. Trump also posted it to Instagram. On Thursday, President Obama issued a stinging rebuke to Russia after U. S. intelligence officials concluded the country had directed hacks into Democratic National Committee emails and the personal email account of Democratic nominee Hillary Clinton’s campaign chairman, John Podesta. In a statement, Obama said ”all Americans should be alarmed by Russia’s actions.” Trump’s praise of Putin stands in stark contrast not just with the outgoing administration, but with top leaders of his own party. GOP congressional leaders backed Obama’s actions on Thursday, albeit criticizing the president for being too late in taking a strong stance against Russia. House Speaker Paul Ryan called the sanctions ”overdue” but ”appropriate” and said that ”Russia does not share America’s interests.” ”The Russians are not our friends,” Senate Majority Leader Mitch McConnell said in a statement, calling the sanctions a ”good initial step.” Obama has pointed to the impact of past sanctions by the U. S. and Europe in the wake of the annexation of Crimea, maintaining that his approach has damaged Russia’s economy and isolated the country on the world stage. Trump released a brief statement Thursday evening in response to the latest actions by Obama against Russia simply stating that, ”It’s time for our country to move on to bigger and better things.” He said he would meet with U. S. intelligence officials regarding the cyberhacking, though Trump has repeatedly cast doubt on their findings and throughout the campaign dismissed reports that Russia was behind the attacks. Trump raised eyebrows throughout the campaign with his praise of Putin. ”He’s running his country, and at least he’s a leader, unlike what we have in this country,” Trump said in an interview with MSNBC in December 2015. He was pressed by host Joe Scarborough on the killings of political figures and journalists critical of Putin and deflected. That interview came just after Putin praised Trump as ”talented.” Later in the campaign, Trump suggested Russia should find emails missing from Hillary Clinton’s time as secretary of state, which his aides later said was a joke. At the time, Trump tried distancing himself from Putin. ”I never met Putin. I don’t know who Putin is. He said one nice thing about me. He said I’m a genius. I said, ’Thank you very much’ to the newspaper, and that was the end of it,” Trump said. But not long after, Trump was heavily criticized for saying Putin wasn’t going into Ukraine, even though his country had already annexed Crimea. The Republican nominee also repeated his praise of Putin as ”a leader far more than our president has been” at a national security town hall in early September. One of the most memorable clashes in Trump’s debates with Hillary Clinton was when the Democratic nominee accused him of being a ”puppet” of Russia. Trump shot back: ”No puppet. No puppet. You’re the puppet.” He often criticizes the   ”reset” with Russia that Clinton led in the early days of the Obama administration, even as Trump himself repeatedly has called for friendlier relations with Moscow. With three weeks until Inauguration Day, Trump has increasingly used his Twitter feed to weigh in on foreign policy  —   violating usual protocols where the winner of an election avoids interfering in the foreign policy actions of the sitting president. Trump’s staff has said such use of Twitter to weigh in on foreign policy won’t end once he’s in the Oval Office. So far, he’s outlined his opposition to the United States’ abstention from the U. N. Security Council vote on Israeli settlements earlier this month. Trump has also criticized China for its seizure of an unmanned U. S. Navy underwater drone, before saying the country that he’s often criticized should keep the drone. And Trump has also called for the U. S. to strengthen its nuclear arsenal and recently seemed to encourage a nuclear arms race with Russia  —   perhaps because he believes his strategic approach to Putin will work better than Obama’s."
        ],
        [
         "3",
         "Updated at 2:50 p. m. ET, Russian President Vladimir Putin says Russia won’t be expelling U. S. diplomats in a    response to U. S. sanctions, as his foreign minister had suggested earlier Friday. Instead, he says he will decide how to move forward depending on the actions of   Donald Trump’s administration. Trump took to Twitter on Friday afternoon to praise Putin’s decision, calling it a ”great move.” On Thursday, the White House announced sanctions against Russia in response to what it called ”a   campaign of   operations” against the U. S.  —   including actions meant to interfere with the U. S. presidential election. On Friday, Russian Foreign Minister Sergey Lavrov went on state TV and called the sanctions ”antics” that Russia can’t leave unanswered. He said the U. S. provided no evidence for its claims of Russian cyber operations, NPR’s Lucian Kim reports. ”The Kremlin has consistently denied accusations that its hackers had broken into the Democratic National Committee or tried to sway the U. S. election,” Lucian notes. And he proposed specific counteractions Russia could take. As we reported Thursday, President Obama’s executive order calls for 35 Russian diplomats  —   described by the White House as ”intelligence operatives”  —   to be expelled from the U. S. and for two Russian facilities in the U. S. to be closed. Sanctions will also be imposed on several Russian individuals and organizations, and Obama’s statement says more actions will be taken, ”some of which will not be publicized.” Lavrov announced plans for Russia to respond in kind, as Lucian reported from Moscow. Lavrov’s plan, which needed Putin’s approval, called for 35 American diplomats to be expelled and for U. S. diplomats to ”lose access to two buildings, just as Russian diplomats will no longer be able to use two retreats in Maryland and New York,” Lucian reports. But just two hours after Lavrov’s comments, Putin announced that nothing of the sort was happening. Putin called the Obama administration’s actions provocative and said Russia had grounds for a response. He said the Kremlin would reserve the right to a countermeasure  —   but that it would not ”stoop to the level of irresponsible diplomacy,” as Lucian translated it. At least for now, no diplomats will be expelled or barred from using facilities in Moscow, he said. Any actions will wait until Trump takes office. ”It is regrettable that the Obama administration is ending its term in this manner,” Putin said. ”Nevertheless, I offer my New Year greetings to President Obama and his family. ”My season’s greetings also to   Donald Trump and the American people. I wish all of you happiness and prosperity.”"
        ],
        [
         "4",
         "From photography, illustration and video, to data visualizations and immersive experiences, visuals are an important part of our storytelling at NPR. Interwoven with the written and the spoken word, images  —   another visual language  —   can create deeper understanding and empathy for the struggles and triumphs we face together. We told a lot of stories in 2016  —   far more than we can list here. So, instead, here’s a small selection of our favorite pieces, highlighting some of the work we’re most proud of, some of the biggest stories we reported, and some of the stories we had the most fun telling. Transport yourself to Rocky Mountain National Park, with all its sights and sounds, in an immersive geology lesson with Oregon State University geology professor Eric Kirby, who discusses the geologic history of the Rockies in   video. ”Today, Indians use much less energy per person than Americans or Chinese people. Many of its 1. 2   population live on roughly $2 a day. But what if all of those people had electricity at night, a refrigerator, a car? ”With ambitious goals to improve the standard of living, and 400 million people lacking reliable electricity, ’This means we need to enhance the energy supply by four to five times what it is now,’ says Ajay Mathur, a climate expert who runs the Energy and Resources Institute in New Delhi. He says that no matter how fast India increases its clean energy, like solar and wind, the country will probably also double its use of coal between now and 2030. ”Todd Stern, who served till last month as the top U. S. envoy on climate change, says India has a steeper hill to climb than any other country. ’There is no country, probably, with a bigger challenge  —   looking at the number of people, the level of their economic growth, the number of people who don’t have access to electricity,’ he says.” Can India’s Sacred But ’Dead’ Yamuna River Be Saved? India’s Big Battle: Development Vs. Pollution, In India’s Sundarbans, People And Tigers Try To Coexist In A Shrinking Space, ”Trying to understand the Trump Organization is a daunting task.   Donald Trump has not released his tax returns, so the best clues about his privately held business interests come from a financial disclosure form he released in May. ”The document covers scores of pages with small type, and suggests he is financially involved with hundreds of companies, including some that simply license his name. ”A dive into that disclosure form, submitted to the Office of Government Ethics, shows his largest sources of revenue are golf courses and   rents. But his interests are far flung, and include media, retail, entertainment and much more. ”Those business interests are affected by government agencies and policies. NPR scoured this document to create an overview of some of his business assets and operations (excluding debts) and the possible areas where conflicts may arise.” The protests at the Standing Rock Reservation, which started in early 2016, had small roots but grew into the thousands, drawing support from Native Americans from across the country, as well as activists who joined in solidarity against the proposed route of the   Dakota Access Pipeline just north of the reservation. In December, those protests won a concession from the federal government: The Army Corps of Engineers announced it would deny the permit necessary to build the oil pipeline in that area. In Their Own Words: The ’Water Protectors’ Of Standing Rock, Protesters Mark A Solemn Thanksgiving Day At Standing Rock, Protesters, Police Still Clashing Over Disputed North Dakota Pipeline, N. D. Pipeline Protester: ’It’s About Our Rights As Native People’ ”Up to 1 in 5 kids living in the U. S. shows signs or symptoms of a mental health disorder in a given year. So in a school classroom of 25 students, five of them may be struggling with the same issues many adults deal with: depression, anxiety, substance abuse. And yet most children  —   nearly 80 percent  —   who need mental health services won’t get them. ”Whether treated or not, the children do go to school. And the problems they face can tie into major problems found in schools: chronic absence, low achievement, disruptive behavior and dropping out. ”Experts say schools could play a role in identifying students with problems and helping them succeed. Yet it’s a role many schools are not prepared for.” ”Grapefruit’s bitterness can make it hard to love. Indeed, people often smother it in sugar just to get it down. And yet Americans were once urged to sweeten it with salt. ”Ad campaigns from the first and second world wars tried to convince us that ’Grapefruit Tastes Sweeter With Salt!’ as one 1946 ad for Morton’s in Life magazine put it. The pairing, these ads swore, enhanced the flavor. ”In our   world, these curious culinary time capsules raise the question: Does salt really make grapefruit taste sweeter? And if this practice was once common, why do few people seem to eat grapefruit this way today?” Rio de Janeiro hosted the world’s elite athletes in an Olympics that promised transcendent moments in sports  —   and potential controversies outside of the competition. The Summer Games began Aug. 5, and more than 10, 000 athletes from 206 countries participated. From concerns over the Zika virus and Russian athletes banned on doping charges to incredible wins by the U. S. women’s gymnastics team and sweet moments of   support, the 2016 Olympics was one of the biggest events  —   and biggest stories  —   of the year. ’A Fantasy Of A Fantasy’: U. S. Fencer Jason Pryor On Reaching The Olympics, In Rio’s Favelas,   Benefits From Olympics Have Yet To Materialize, How The Olympic Medal Tables Explain The World, ”Philando Castile spent his driving career trapped in a seemingly endless cycle of traffic stops, fines, court appearances, revocations and reinstatements, raising questions about bias, race and luck. ”Castile’s trouble with traffic stops began when he still had his learner’s permit. He was stopped a day before his 19th birthday. From there, he descended into a seemingly endless cycle of traffic stops, fines, court appearances, late fees, revocations and reinstatements in various jurisdictions. ”Court records raise big questions: Was Castile targeted by police? Or was he just a careless or unlucky driver? ”An NPR analysis of those records shows that the    cafeteria worker who was shot and killed by a police officer during a traffic stop in a St. Paul, Minn. suburb, was stopped by police 46 times and racked up more than $6, 000 in fines. Another curious statistic: Of all of the stops, only six of them were things a police officer would notice from outside a car  —   things like speeding or having a broken muffler.” During a week in Cleveland, photographer Gabriella Demczuk explored the ways that people embraced and challenged the Republican Party’s mission in this election  —   both from inside and outside the party. Then in Philadelphia, Demczuk continued her exploration of the fractures in America’s political system, examining the Democratic Party’s attempt to make itself ”stronger together.” True Believers, Protesters And Trump: Scenes From Cleveland, Dissent, Drama And Unity At The Democratic Convention, ” ’With recent events and political environment, these weapons will be harder to get a hold of.’ ’This is what your   dreams it could be when it grows up.’ ’I can meet . .. near the FL Mall in Orlando or any other time.” ”Cash is king.’ ”These classified advertisements for   weapons were listed on Armslist, a website where anyone can advertise a firearm they’d like to sell, and anyone can contact a seller with an offer to buy. The site is legal. But there’s no way to know whether buyers and sellers who meet through Armslist are following federal, state or local background check rules. ”We wanted to see how many   firearms  —   defined here as handguns and rifles able to rapidly fire a large number of bullets, one shot per trigger pull, without having to reload  —   can be currently found on Armslist, and how quickly new listings appear. This provides a window into the difficulty of regulating access to a type of weapon frequently used in mass shootings.” Our favorite albums of the year draw from all of the genres we cover at NPR Music, from rock, pop and   to classical, jazz, electronic and international artists. These are the records NPR Music couldn’t stop playing  —   albums that speak to a moment and a lifetime, that party, and that exist in their own worlds. Our list of the year’s best songs may begin with Beyoncé and end with Drake, but between those two stars you’ll find a   mix that celebrates all of the music we love. These are the pop anthems, rallying cries, party jams, riff rockers, perfumed piano pieces and emotional exorcisms that we loved to share this year. ”Across the country, private organizations,   groups and individuals quietly have been working to ease the plight of Syrian refugees. More than 11, 000 have arrived in the U. S. this year, fulfilling a pledge by the Obama administration. That figure far exceeds the number of Syrian refugees accepted during the previous four years of the Syrian war, and the White House is calling for a big bump in the overall number of refugees next year. ”It had been a long journey for Osama and Ghada and their four kids, who are among the nearly 5 million Syrians who have fled their homeland since the war began in 2011. They survived the war in Syria and had struggled for three years as refugees in Jordan when they were notified by the U. N. refugee agency, UNHCR, that they had been accepted for resettlement in the U. S.” ”There are huge gaps in school funding between affluent and   districts. And, with evidence that money matters, especially for disadvantaged kids, something has to change. ”School Money is a   nationwide collaboration between NPR’s Ed Team and 20 member station reporters exploring how states pay for their public schools and why many are failing to meet the needs of their most vulnerable students.” Is There A Better Way To Pay For America’s Schools? Why America’s Schools Have A Money Problem, President Obama spoke to NPR as he prepared to leave Washington for the holidays, reflecting on the year that was, the 2016 campaign and other news, plus revealing what he’s hearing from citizens. In the   exit interview, NPR’s Steve Inskeep asked Obama about Russian interference in the U. S. election, executive power, the future of the Democratic party and his future role."
        ]
       ],
       "shape": {
        "columns": 1,
        "rows": 5
       }
      },
      "text/html": [
       "<div>\n",
       "<style scoped>\n",
       "    .dataframe tbody tr th:only-of-type {\n",
       "        vertical-align: middle;\n",
       "    }\n",
       "\n",
       "    .dataframe tbody tr th {\n",
       "        vertical-align: top;\n",
       "    }\n",
       "\n",
       "    .dataframe thead th {\n",
       "        text-align: right;\n",
       "    }\n",
       "</style>\n",
       "<table border=\"1\" class=\"dataframe\">\n",
       "  <thead>\n",
       "    <tr style=\"text-align: right;\">\n",
       "      <th></th>\n",
       "      <th>Article</th>\n",
       "    </tr>\n",
       "  </thead>\n",
       "  <tbody>\n",
       "    <tr>\n",
       "      <th>0</th>\n",
       "      <td>In the Washington of 2016, even when the polic...</td>\n",
       "    </tr>\n",
       "    <tr>\n",
       "      <th>1</th>\n",
       "      <td>Donald Trump has used Twitter  —   his prefe...</td>\n",
       "    </tr>\n",
       "    <tr>\n",
       "      <th>2</th>\n",
       "      <td>Donald Trump is unabashedly praising Russian...</td>\n",
       "    </tr>\n",
       "    <tr>\n",
       "      <th>3</th>\n",
       "      <td>Updated at 2:50 p. m. ET, Russian President Vl...</td>\n",
       "    </tr>\n",
       "    <tr>\n",
       "      <th>4</th>\n",
       "      <td>From photography, illustration and video, to d...</td>\n",
       "    </tr>\n",
       "  </tbody>\n",
       "</table>\n",
       "</div>"
      ],
      "text/plain": [
       "                                             Article\n",
       "0  In the Washington of 2016, even when the polic...\n",
       "1    Donald Trump has used Twitter  —   his prefe...\n",
       "2    Donald Trump is unabashedly praising Russian...\n",
       "3  Updated at 2:50 p. m. ET, Russian President Vl...\n",
       "4  From photography, illustration and video, to d..."
      ]
     },
     "execution_count": 3,
     "metadata": {},
     "output_type": "execute_result"
    }
   ],
   "source": [
    "npr.head()"
   ]
  },
  {
   "cell_type": "markdown",
   "metadata": {},
   "source": [
    "Notice how we don't have the topic of the articles! Let's use LDA to attempt to figure out clusters of the articles."
   ]
  },
  {
   "cell_type": "markdown",
   "metadata": {},
   "source": [
    "## Preprocessing"
   ]
  },
  {
   "cell_type": "code",
   "execution_count": 4,
   "metadata": {
    "collapsed": true
   },
   "outputs": [],
   "source": [
    "from sklearn.feature_extraction.text import TfidfVectorizer"
   ]
  },
  {
   "cell_type": "markdown",
   "metadata": {},
   "source": [
    "**`max_df`**` : float in range [0.0, 1.0] or int, default=1.0`<br>\n",
    "When building the vocabulary ignore terms that have a document frequency strictly higher than the given threshold (corpus-specific stop words). If float, the parameter represents a proportion of documents, integer absolute counts. This parameter is ignored if vocabulary is not None.\n",
    "\n",
    "**`min_df`**` : float in range [0.0, 1.0] or int, default=1`<br>\n",
    "When building the vocabulary ignore terms that have a document frequency strictly lower than the given threshold. This value is also called cut-off in the literature. If float, the parameter represents a proportion of documents, integer absolute counts. This parameter is ignored if vocabulary is not None."
   ]
  },
  {
   "cell_type": "code",
   "execution_count": 5,
   "metadata": {
    "collapsed": true
   },
   "outputs": [],
   "source": [
    "tfidf = TfidfVectorizer(max_df=0.95, min_df=2, stop_words='english')"
   ]
  },
  {
   "cell_type": "code",
   "execution_count": 6,
   "metadata": {
    "collapsed": true
   },
   "outputs": [],
   "source": [
    "dtm = tfidf.fit_transform(npr['Article'])"
   ]
  },
  {
   "cell_type": "code",
   "execution_count": 7,
   "metadata": {},
   "outputs": [
    {
     "data": {
      "text/plain": [
       "<Compressed Sparse Row sparse matrix of dtype 'float64'\n",
       "\twith 3033388 stored elements and shape (11992, 54777)>"
      ]
     },
     "execution_count": 7,
     "metadata": {},
     "output_type": "execute_result"
    }
   ],
   "source": [
    "dtm"
   ]
  },
  {
   "cell_type": "markdown",
   "metadata": {},
   "source": [
    "## NMF"
   ]
  },
  {
   "cell_type": "code",
   "execution_count": 8,
   "metadata": {
    "collapsed": true
   },
   "outputs": [],
   "source": [
    "from sklearn.decomposition import NMF"
   ]
  },
  {
   "cell_type": "code",
   "execution_count": 9,
   "metadata": {
    "collapsed": true
   },
   "outputs": [],
   "source": [
    "nmf_model = NMF(n_components=7,random_state=42)"
   ]
  },
  {
   "cell_type": "code",
   "execution_count": 10,
   "metadata": {},
   "outputs": [
    {
     "data": {
      "text/html": [
       "<style>#sk-container-id-1 {\n",
       "  /* Definition of color scheme common for light and dark mode */\n",
       "  --sklearn-color-text: #000;\n",
       "  --sklearn-color-text-muted: #666;\n",
       "  --sklearn-color-line: gray;\n",
       "  /* Definition of color scheme for unfitted estimators */\n",
       "  --sklearn-color-unfitted-level-0: #fff5e6;\n",
       "  --sklearn-color-unfitted-level-1: #f6e4d2;\n",
       "  --sklearn-color-unfitted-level-2: #ffe0b3;\n",
       "  --sklearn-color-unfitted-level-3: chocolate;\n",
       "  /* Definition of color scheme for fitted estimators */\n",
       "  --sklearn-color-fitted-level-0: #f0f8ff;\n",
       "  --sklearn-color-fitted-level-1: #d4ebff;\n",
       "  --sklearn-color-fitted-level-2: #b3dbfd;\n",
       "  --sklearn-color-fitted-level-3: cornflowerblue;\n",
       "\n",
       "  /* Specific color for light theme */\n",
       "  --sklearn-color-text-on-default-background: var(--sg-text-color, var(--theme-code-foreground, var(--jp-content-font-color1, black)));\n",
       "  --sklearn-color-background: var(--sg-background-color, var(--theme-background, var(--jp-layout-color0, white)));\n",
       "  --sklearn-color-border-box: var(--sg-text-color, var(--theme-code-foreground, var(--jp-content-font-color1, black)));\n",
       "  --sklearn-color-icon: #696969;\n",
       "\n",
       "  @media (prefers-color-scheme: dark) {\n",
       "    /* Redefinition of color scheme for dark theme */\n",
       "    --sklearn-color-text-on-default-background: var(--sg-text-color, var(--theme-code-foreground, var(--jp-content-font-color1, white)));\n",
       "    --sklearn-color-background: var(--sg-background-color, var(--theme-background, var(--jp-layout-color0, #111)));\n",
       "    --sklearn-color-border-box: var(--sg-text-color, var(--theme-code-foreground, var(--jp-content-font-color1, white)));\n",
       "    --sklearn-color-icon: #878787;\n",
       "  }\n",
       "}\n",
       "\n",
       "#sk-container-id-1 {\n",
       "  color: var(--sklearn-color-text);\n",
       "}\n",
       "\n",
       "#sk-container-id-1 pre {\n",
       "  padding: 0;\n",
       "}\n",
       "\n",
       "#sk-container-id-1 input.sk-hidden--visually {\n",
       "  border: 0;\n",
       "  clip: rect(1px 1px 1px 1px);\n",
       "  clip: rect(1px, 1px, 1px, 1px);\n",
       "  height: 1px;\n",
       "  margin: -1px;\n",
       "  overflow: hidden;\n",
       "  padding: 0;\n",
       "  position: absolute;\n",
       "  width: 1px;\n",
       "}\n",
       "\n",
       "#sk-container-id-1 div.sk-dashed-wrapped {\n",
       "  border: 1px dashed var(--sklearn-color-line);\n",
       "  margin: 0 0.4em 0.5em 0.4em;\n",
       "  box-sizing: border-box;\n",
       "  padding-bottom: 0.4em;\n",
       "  background-color: var(--sklearn-color-background);\n",
       "}\n",
       "\n",
       "#sk-container-id-1 div.sk-container {\n",
       "  /* jupyter's `normalize.less` sets `[hidden] { display: none; }`\n",
       "     but bootstrap.min.css set `[hidden] { display: none !important; }`\n",
       "     so we also need the `!important` here to be able to override the\n",
       "     default hidden behavior on the sphinx rendered scikit-learn.org.\n",
       "     See: https://github.com/scikit-learn/scikit-learn/issues/21755 */\n",
       "  display: inline-block !important;\n",
       "  position: relative;\n",
       "}\n",
       "\n",
       "#sk-container-id-1 div.sk-text-repr-fallback {\n",
       "  display: none;\n",
       "}\n",
       "\n",
       "div.sk-parallel-item,\n",
       "div.sk-serial,\n",
       "div.sk-item {\n",
       "  /* draw centered vertical line to link estimators */\n",
       "  background-image: linear-gradient(var(--sklearn-color-text-on-default-background), var(--sklearn-color-text-on-default-background));\n",
       "  background-size: 2px 100%;\n",
       "  background-repeat: no-repeat;\n",
       "  background-position: center center;\n",
       "}\n",
       "\n",
       "/* Parallel-specific style estimator block */\n",
       "\n",
       "#sk-container-id-1 div.sk-parallel-item::after {\n",
       "  content: \"\";\n",
       "  width: 100%;\n",
       "  border-bottom: 2px solid var(--sklearn-color-text-on-default-background);\n",
       "  flex-grow: 1;\n",
       "}\n",
       "\n",
       "#sk-container-id-1 div.sk-parallel {\n",
       "  display: flex;\n",
       "  align-items: stretch;\n",
       "  justify-content: center;\n",
       "  background-color: var(--sklearn-color-background);\n",
       "  position: relative;\n",
       "}\n",
       "\n",
       "#sk-container-id-1 div.sk-parallel-item {\n",
       "  display: flex;\n",
       "  flex-direction: column;\n",
       "}\n",
       "\n",
       "#sk-container-id-1 div.sk-parallel-item:first-child::after {\n",
       "  align-self: flex-end;\n",
       "  width: 50%;\n",
       "}\n",
       "\n",
       "#sk-container-id-1 div.sk-parallel-item:last-child::after {\n",
       "  align-self: flex-start;\n",
       "  width: 50%;\n",
       "}\n",
       "\n",
       "#sk-container-id-1 div.sk-parallel-item:only-child::after {\n",
       "  width: 0;\n",
       "}\n",
       "\n",
       "/* Serial-specific style estimator block */\n",
       "\n",
       "#sk-container-id-1 div.sk-serial {\n",
       "  display: flex;\n",
       "  flex-direction: column;\n",
       "  align-items: center;\n",
       "  background-color: var(--sklearn-color-background);\n",
       "  padding-right: 1em;\n",
       "  padding-left: 1em;\n",
       "}\n",
       "\n",
       "\n",
       "/* Toggleable style: style used for estimator/Pipeline/ColumnTransformer box that is\n",
       "clickable and can be expanded/collapsed.\n",
       "- Pipeline and ColumnTransformer use this feature and define the default style\n",
       "- Estimators will overwrite some part of the style using the `sk-estimator` class\n",
       "*/\n",
       "\n",
       "/* Pipeline and ColumnTransformer style (default) */\n",
       "\n",
       "#sk-container-id-1 div.sk-toggleable {\n",
       "  /* Default theme specific background. It is overwritten whether we have a\n",
       "  specific estimator or a Pipeline/ColumnTransformer */\n",
       "  background-color: var(--sklearn-color-background);\n",
       "}\n",
       "\n",
       "/* Toggleable label */\n",
       "#sk-container-id-1 label.sk-toggleable__label {\n",
       "  cursor: pointer;\n",
       "  display: flex;\n",
       "  width: 100%;\n",
       "  margin-bottom: 0;\n",
       "  padding: 0.5em;\n",
       "  box-sizing: border-box;\n",
       "  text-align: center;\n",
       "  align-items: start;\n",
       "  justify-content: space-between;\n",
       "  gap: 0.5em;\n",
       "}\n",
       "\n",
       "#sk-container-id-1 label.sk-toggleable__label .caption {\n",
       "  font-size: 0.6rem;\n",
       "  font-weight: lighter;\n",
       "  color: var(--sklearn-color-text-muted);\n",
       "}\n",
       "\n",
       "#sk-container-id-1 label.sk-toggleable__label-arrow:before {\n",
       "  /* Arrow on the left of the label */\n",
       "  content: \"▸\";\n",
       "  float: left;\n",
       "  margin-right: 0.25em;\n",
       "  color: var(--sklearn-color-icon);\n",
       "}\n",
       "\n",
       "#sk-container-id-1 label.sk-toggleable__label-arrow:hover:before {\n",
       "  color: var(--sklearn-color-text);\n",
       "}\n",
       "\n",
       "/* Toggleable content - dropdown */\n",
       "\n",
       "#sk-container-id-1 div.sk-toggleable__content {\n",
       "  display: none;\n",
       "  text-align: left;\n",
       "  /* unfitted */\n",
       "  background-color: var(--sklearn-color-unfitted-level-0);\n",
       "}\n",
       "\n",
       "#sk-container-id-1 div.sk-toggleable__content.fitted {\n",
       "  /* fitted */\n",
       "  background-color: var(--sklearn-color-fitted-level-0);\n",
       "}\n",
       "\n",
       "#sk-container-id-1 div.sk-toggleable__content pre {\n",
       "  margin: 0.2em;\n",
       "  border-radius: 0.25em;\n",
       "  color: var(--sklearn-color-text);\n",
       "  /* unfitted */\n",
       "  background-color: var(--sklearn-color-unfitted-level-0);\n",
       "}\n",
       "\n",
       "#sk-container-id-1 div.sk-toggleable__content.fitted pre {\n",
       "  /* unfitted */\n",
       "  background-color: var(--sklearn-color-fitted-level-0);\n",
       "}\n",
       "\n",
       "#sk-container-id-1 input.sk-toggleable__control:checked~div.sk-toggleable__content {\n",
       "  /* Expand drop-down */\n",
       "  display: block;\n",
       "  width: 100%;\n",
       "  overflow: visible;\n",
       "}\n",
       "\n",
       "#sk-container-id-1 input.sk-toggleable__control:checked~label.sk-toggleable__label-arrow:before {\n",
       "  content: \"▾\";\n",
       "}\n",
       "\n",
       "/* Pipeline/ColumnTransformer-specific style */\n",
       "\n",
       "#sk-container-id-1 div.sk-label input.sk-toggleable__control:checked~label.sk-toggleable__label {\n",
       "  color: var(--sklearn-color-text);\n",
       "  background-color: var(--sklearn-color-unfitted-level-2);\n",
       "}\n",
       "\n",
       "#sk-container-id-1 div.sk-label.fitted input.sk-toggleable__control:checked~label.sk-toggleable__label {\n",
       "  background-color: var(--sklearn-color-fitted-level-2);\n",
       "}\n",
       "\n",
       "/* Estimator-specific style */\n",
       "\n",
       "/* Colorize estimator box */\n",
       "#sk-container-id-1 div.sk-estimator input.sk-toggleable__control:checked~label.sk-toggleable__label {\n",
       "  /* unfitted */\n",
       "  background-color: var(--sklearn-color-unfitted-level-2);\n",
       "}\n",
       "\n",
       "#sk-container-id-1 div.sk-estimator.fitted input.sk-toggleable__control:checked~label.sk-toggleable__label {\n",
       "  /* fitted */\n",
       "  background-color: var(--sklearn-color-fitted-level-2);\n",
       "}\n",
       "\n",
       "#sk-container-id-1 div.sk-label label.sk-toggleable__label,\n",
       "#sk-container-id-1 div.sk-label label {\n",
       "  /* The background is the default theme color */\n",
       "  color: var(--sklearn-color-text-on-default-background);\n",
       "}\n",
       "\n",
       "/* On hover, darken the color of the background */\n",
       "#sk-container-id-1 div.sk-label:hover label.sk-toggleable__label {\n",
       "  color: var(--sklearn-color-text);\n",
       "  background-color: var(--sklearn-color-unfitted-level-2);\n",
       "}\n",
       "\n",
       "/* Label box, darken color on hover, fitted */\n",
       "#sk-container-id-1 div.sk-label.fitted:hover label.sk-toggleable__label.fitted {\n",
       "  color: var(--sklearn-color-text);\n",
       "  background-color: var(--sklearn-color-fitted-level-2);\n",
       "}\n",
       "\n",
       "/* Estimator label */\n",
       "\n",
       "#sk-container-id-1 div.sk-label label {\n",
       "  font-family: monospace;\n",
       "  font-weight: bold;\n",
       "  display: inline-block;\n",
       "  line-height: 1.2em;\n",
       "}\n",
       "\n",
       "#sk-container-id-1 div.sk-label-container {\n",
       "  text-align: center;\n",
       "}\n",
       "\n",
       "/* Estimator-specific */\n",
       "#sk-container-id-1 div.sk-estimator {\n",
       "  font-family: monospace;\n",
       "  border: 1px dotted var(--sklearn-color-border-box);\n",
       "  border-radius: 0.25em;\n",
       "  box-sizing: border-box;\n",
       "  margin-bottom: 0.5em;\n",
       "  /* unfitted */\n",
       "  background-color: var(--sklearn-color-unfitted-level-0);\n",
       "}\n",
       "\n",
       "#sk-container-id-1 div.sk-estimator.fitted {\n",
       "  /* fitted */\n",
       "  background-color: var(--sklearn-color-fitted-level-0);\n",
       "}\n",
       "\n",
       "/* on hover */\n",
       "#sk-container-id-1 div.sk-estimator:hover {\n",
       "  /* unfitted */\n",
       "  background-color: var(--sklearn-color-unfitted-level-2);\n",
       "}\n",
       "\n",
       "#sk-container-id-1 div.sk-estimator.fitted:hover {\n",
       "  /* fitted */\n",
       "  background-color: var(--sklearn-color-fitted-level-2);\n",
       "}\n",
       "\n",
       "/* Specification for estimator info (e.g. \"i\" and \"?\") */\n",
       "\n",
       "/* Common style for \"i\" and \"?\" */\n",
       "\n",
       ".sk-estimator-doc-link,\n",
       "a:link.sk-estimator-doc-link,\n",
       "a:visited.sk-estimator-doc-link {\n",
       "  float: right;\n",
       "  font-size: smaller;\n",
       "  line-height: 1em;\n",
       "  font-family: monospace;\n",
       "  background-color: var(--sklearn-color-background);\n",
       "  border-radius: 1em;\n",
       "  height: 1em;\n",
       "  width: 1em;\n",
       "  text-decoration: none !important;\n",
       "  margin-left: 0.5em;\n",
       "  text-align: center;\n",
       "  /* unfitted */\n",
       "  border: var(--sklearn-color-unfitted-level-1) 1pt solid;\n",
       "  color: var(--sklearn-color-unfitted-level-1);\n",
       "}\n",
       "\n",
       ".sk-estimator-doc-link.fitted,\n",
       "a:link.sk-estimator-doc-link.fitted,\n",
       "a:visited.sk-estimator-doc-link.fitted {\n",
       "  /* fitted */\n",
       "  border: var(--sklearn-color-fitted-level-1) 1pt solid;\n",
       "  color: var(--sklearn-color-fitted-level-1);\n",
       "}\n",
       "\n",
       "/* On hover */\n",
       "div.sk-estimator:hover .sk-estimator-doc-link:hover,\n",
       ".sk-estimator-doc-link:hover,\n",
       "div.sk-label-container:hover .sk-estimator-doc-link:hover,\n",
       ".sk-estimator-doc-link:hover {\n",
       "  /* unfitted */\n",
       "  background-color: var(--sklearn-color-unfitted-level-3);\n",
       "  color: var(--sklearn-color-background);\n",
       "  text-decoration: none;\n",
       "}\n",
       "\n",
       "div.sk-estimator.fitted:hover .sk-estimator-doc-link.fitted:hover,\n",
       ".sk-estimator-doc-link.fitted:hover,\n",
       "div.sk-label-container:hover .sk-estimator-doc-link.fitted:hover,\n",
       ".sk-estimator-doc-link.fitted:hover {\n",
       "  /* fitted */\n",
       "  background-color: var(--sklearn-color-fitted-level-3);\n",
       "  color: var(--sklearn-color-background);\n",
       "  text-decoration: none;\n",
       "}\n",
       "\n",
       "/* Span, style for the box shown on hovering the info icon */\n",
       ".sk-estimator-doc-link span {\n",
       "  display: none;\n",
       "  z-index: 9999;\n",
       "  position: relative;\n",
       "  font-weight: normal;\n",
       "  right: .2ex;\n",
       "  padding: .5ex;\n",
       "  margin: .5ex;\n",
       "  width: min-content;\n",
       "  min-width: 20ex;\n",
       "  max-width: 50ex;\n",
       "  color: var(--sklearn-color-text);\n",
       "  box-shadow: 2pt 2pt 4pt #999;\n",
       "  /* unfitted */\n",
       "  background: var(--sklearn-color-unfitted-level-0);\n",
       "  border: .5pt solid var(--sklearn-color-unfitted-level-3);\n",
       "}\n",
       "\n",
       ".sk-estimator-doc-link.fitted span {\n",
       "  /* fitted */\n",
       "  background: var(--sklearn-color-fitted-level-0);\n",
       "  border: var(--sklearn-color-fitted-level-3);\n",
       "}\n",
       "\n",
       ".sk-estimator-doc-link:hover span {\n",
       "  display: block;\n",
       "}\n",
       "\n",
       "/* \"?\"-specific style due to the `<a>` HTML tag */\n",
       "\n",
       "#sk-container-id-1 a.estimator_doc_link {\n",
       "  float: right;\n",
       "  font-size: 1rem;\n",
       "  line-height: 1em;\n",
       "  font-family: monospace;\n",
       "  background-color: var(--sklearn-color-background);\n",
       "  border-radius: 1rem;\n",
       "  height: 1rem;\n",
       "  width: 1rem;\n",
       "  text-decoration: none;\n",
       "  /* unfitted */\n",
       "  color: var(--sklearn-color-unfitted-level-1);\n",
       "  border: var(--sklearn-color-unfitted-level-1) 1pt solid;\n",
       "}\n",
       "\n",
       "#sk-container-id-1 a.estimator_doc_link.fitted {\n",
       "  /* fitted */\n",
       "  border: var(--sklearn-color-fitted-level-1) 1pt solid;\n",
       "  color: var(--sklearn-color-fitted-level-1);\n",
       "}\n",
       "\n",
       "/* On hover */\n",
       "#sk-container-id-1 a.estimator_doc_link:hover {\n",
       "  /* unfitted */\n",
       "  background-color: var(--sklearn-color-unfitted-level-3);\n",
       "  color: var(--sklearn-color-background);\n",
       "  text-decoration: none;\n",
       "}\n",
       "\n",
       "#sk-container-id-1 a.estimator_doc_link.fitted:hover {\n",
       "  /* fitted */\n",
       "  background-color: var(--sklearn-color-fitted-level-3);\n",
       "}\n",
       "\n",
       ".estimator-table summary {\n",
       "    padding: .5rem;\n",
       "    font-family: monospace;\n",
       "    cursor: pointer;\n",
       "}\n",
       "\n",
       ".estimator-table details[open] {\n",
       "    padding-left: 0.1rem;\n",
       "    padding-right: 0.1rem;\n",
       "    padding-bottom: 0.3rem;\n",
       "}\n",
       "\n",
       ".estimator-table .parameters-table {\n",
       "    margin-left: auto !important;\n",
       "    margin-right: auto !important;\n",
       "}\n",
       "\n",
       ".estimator-table .parameters-table tr:nth-child(odd) {\n",
       "    background-color: #fff;\n",
       "}\n",
       "\n",
       ".estimator-table .parameters-table tr:nth-child(even) {\n",
       "    background-color: #f6f6f6;\n",
       "}\n",
       "\n",
       ".estimator-table .parameters-table tr:hover {\n",
       "    background-color: #e0e0e0;\n",
       "}\n",
       "\n",
       ".estimator-table table td {\n",
       "    border: 1px solid rgba(106, 105, 104, 0.232);\n",
       "}\n",
       "\n",
       ".user-set td {\n",
       "    color:rgb(255, 94, 0);\n",
       "    text-align: left;\n",
       "}\n",
       "\n",
       ".user-set td.value pre {\n",
       "    color:rgb(255, 94, 0) !important;\n",
       "    background-color: transparent !important;\n",
       "}\n",
       "\n",
       ".default td {\n",
       "    color: black;\n",
       "    text-align: left;\n",
       "}\n",
       "\n",
       ".user-set td i,\n",
       ".default td i {\n",
       "    color: black;\n",
       "}\n",
       "\n",
       ".copy-paste-icon {\n",
       "    background-image: url(data:image/svg+xml;base64,PHN2ZyB4bWxucz0iaHR0cDovL3d3dy53My5vcmcvMjAwMC9zdmciIHZpZXdCb3g9IjAgMCA0NDggNTEyIj48IS0tIUZvbnQgQXdlc29tZSBGcmVlIDYuNy4yIGJ5IEBmb250YXdlc29tZSAtIGh0dHBzOi8vZm9udGF3ZXNvbWUuY29tIExpY2Vuc2UgLSBodHRwczovL2ZvbnRhd2Vzb21lLmNvbS9saWNlbnNlL2ZyZWUgQ29weXJpZ2h0IDIwMjUgRm9udGljb25zLCBJbmMuLS0+PHBhdGggZD0iTTIwOCAwTDMzMi4xIDBjMTIuNyAwIDI0LjkgNS4xIDMzLjkgMTQuMWw2Ny45IDY3LjljOSA5IDE0LjEgMjEuMiAxNC4xIDMzLjlMNDQ4IDMzNmMwIDI2LjUtMjEuNSA0OC00OCA0OGwtMTkyIDBjLTI2LjUgMC00OC0yMS41LTQ4LTQ4bDAtMjg4YzAtMjYuNSAyMS41LTQ4IDQ4LTQ4ek00OCAxMjhsODAgMCAwIDY0LTY0IDAgMCAyNTYgMTkyIDAgMC0zMiA2NCAwIDAgNDhjMCAyNi41LTIxLjUgNDgtNDggNDhMNDggNTEyYy0yNi41IDAtNDgtMjEuNS00OC00OEwwIDE3NmMwLTI2LjUgMjEuNS00OCA0OC00OHoiLz48L3N2Zz4=);\n",
       "    background-repeat: no-repeat;\n",
       "    background-size: 14px 14px;\n",
       "    background-position: 0;\n",
       "    display: inline-block;\n",
       "    width: 14px;\n",
       "    height: 14px;\n",
       "    cursor: pointer;\n",
       "}\n",
       "</style><body><div id=\"sk-container-id-1\" class=\"sk-top-container\"><div class=\"sk-text-repr-fallback\"><pre>NMF(n_components=7, random_state=42)</pre><b>In a Jupyter environment, please rerun this cell to show the HTML representation or trust the notebook. <br />On GitHub, the HTML representation is unable to render, please try loading this page with nbviewer.org.</b></div><div class=\"sk-container\" hidden><div class=\"sk-item\"><div class=\"sk-estimator fitted sk-toggleable\"><input class=\"sk-toggleable__control sk-hidden--visually\" id=\"sk-estimator-id-1\" type=\"checkbox\" checked><label for=\"sk-estimator-id-1\" class=\"sk-toggleable__label fitted sk-toggleable__label-arrow\"><div><div>NMF</div></div><div><a class=\"sk-estimator-doc-link fitted\" rel=\"noreferrer\" target=\"_blank\" href=\"https://scikit-learn.org/1.7/modules/generated/sklearn.decomposition.NMF.html\">?<span>Documentation for NMF</span></a><span class=\"sk-estimator-doc-link fitted\">i<span>Fitted</span></span></div></label><div class=\"sk-toggleable__content fitted\" data-param-prefix=\"\">\n",
       "        <div class=\"estimator-table\">\n",
       "            <details>\n",
       "                <summary>Parameters</summary>\n",
       "                <table class=\"parameters-table\">\n",
       "                  <tbody>\n",
       "                    \n",
       "        <tr class=\"user-set\">\n",
       "            <td><i class=\"copy-paste-icon\"\n",
       "                 onclick=\"copyToClipboard('n_components',\n",
       "                          this.parentElement.nextElementSibling)\"\n",
       "            ></i></td>\n",
       "            <td class=\"param\">n_components&nbsp;</td>\n",
       "            <td class=\"value\">7</td>\n",
       "        </tr>\n",
       "    \n",
       "\n",
       "        <tr class=\"default\">\n",
       "            <td><i class=\"copy-paste-icon\"\n",
       "                 onclick=\"copyToClipboard('init',\n",
       "                          this.parentElement.nextElementSibling)\"\n",
       "            ></i></td>\n",
       "            <td class=\"param\">init&nbsp;</td>\n",
       "            <td class=\"value\">None</td>\n",
       "        </tr>\n",
       "    \n",
       "\n",
       "        <tr class=\"default\">\n",
       "            <td><i class=\"copy-paste-icon\"\n",
       "                 onclick=\"copyToClipboard('solver',\n",
       "                          this.parentElement.nextElementSibling)\"\n",
       "            ></i></td>\n",
       "            <td class=\"param\">solver&nbsp;</td>\n",
       "            <td class=\"value\">&#x27;cd&#x27;</td>\n",
       "        </tr>\n",
       "    \n",
       "\n",
       "        <tr class=\"default\">\n",
       "            <td><i class=\"copy-paste-icon\"\n",
       "                 onclick=\"copyToClipboard('beta_loss',\n",
       "                          this.parentElement.nextElementSibling)\"\n",
       "            ></i></td>\n",
       "            <td class=\"param\">beta_loss&nbsp;</td>\n",
       "            <td class=\"value\">&#x27;frobenius&#x27;</td>\n",
       "        </tr>\n",
       "    \n",
       "\n",
       "        <tr class=\"default\">\n",
       "            <td><i class=\"copy-paste-icon\"\n",
       "                 onclick=\"copyToClipboard('tol',\n",
       "                          this.parentElement.nextElementSibling)\"\n",
       "            ></i></td>\n",
       "            <td class=\"param\">tol&nbsp;</td>\n",
       "            <td class=\"value\">0.0001</td>\n",
       "        </tr>\n",
       "    \n",
       "\n",
       "        <tr class=\"default\">\n",
       "            <td><i class=\"copy-paste-icon\"\n",
       "                 onclick=\"copyToClipboard('max_iter',\n",
       "                          this.parentElement.nextElementSibling)\"\n",
       "            ></i></td>\n",
       "            <td class=\"param\">max_iter&nbsp;</td>\n",
       "            <td class=\"value\">200</td>\n",
       "        </tr>\n",
       "    \n",
       "\n",
       "        <tr class=\"user-set\">\n",
       "            <td><i class=\"copy-paste-icon\"\n",
       "                 onclick=\"copyToClipboard('random_state',\n",
       "                          this.parentElement.nextElementSibling)\"\n",
       "            ></i></td>\n",
       "            <td class=\"param\">random_state&nbsp;</td>\n",
       "            <td class=\"value\">42</td>\n",
       "        </tr>\n",
       "    \n",
       "\n",
       "        <tr class=\"default\">\n",
       "            <td><i class=\"copy-paste-icon\"\n",
       "                 onclick=\"copyToClipboard('alpha_W',\n",
       "                          this.parentElement.nextElementSibling)\"\n",
       "            ></i></td>\n",
       "            <td class=\"param\">alpha_W&nbsp;</td>\n",
       "            <td class=\"value\">0.0</td>\n",
       "        </tr>\n",
       "    \n",
       "\n",
       "        <tr class=\"default\">\n",
       "            <td><i class=\"copy-paste-icon\"\n",
       "                 onclick=\"copyToClipboard('alpha_H',\n",
       "                          this.parentElement.nextElementSibling)\"\n",
       "            ></i></td>\n",
       "            <td class=\"param\">alpha_H&nbsp;</td>\n",
       "            <td class=\"value\">&#x27;same&#x27;</td>\n",
       "        </tr>\n",
       "    \n",
       "\n",
       "        <tr class=\"default\">\n",
       "            <td><i class=\"copy-paste-icon\"\n",
       "                 onclick=\"copyToClipboard('l1_ratio',\n",
       "                          this.parentElement.nextElementSibling)\"\n",
       "            ></i></td>\n",
       "            <td class=\"param\">l1_ratio&nbsp;</td>\n",
       "            <td class=\"value\">0.0</td>\n",
       "        </tr>\n",
       "    \n",
       "\n",
       "        <tr class=\"default\">\n",
       "            <td><i class=\"copy-paste-icon\"\n",
       "                 onclick=\"copyToClipboard('verbose',\n",
       "                          this.parentElement.nextElementSibling)\"\n",
       "            ></i></td>\n",
       "            <td class=\"param\">verbose&nbsp;</td>\n",
       "            <td class=\"value\">0</td>\n",
       "        </tr>\n",
       "    \n",
       "\n",
       "        <tr class=\"default\">\n",
       "            <td><i class=\"copy-paste-icon\"\n",
       "                 onclick=\"copyToClipboard('shuffle',\n",
       "                          this.parentElement.nextElementSibling)\"\n",
       "            ></i></td>\n",
       "            <td class=\"param\">shuffle&nbsp;</td>\n",
       "            <td class=\"value\">False</td>\n",
       "        </tr>\n",
       "    \n",
       "                  </tbody>\n",
       "                </table>\n",
       "            </details>\n",
       "        </div>\n",
       "    </div></div></div></div></div><script>function copyToClipboard(text, element) {\n",
       "    // Get the parameter prefix from the closest toggleable content\n",
       "    const toggleableContent = element.closest('.sk-toggleable__content');\n",
       "    const paramPrefix = toggleableContent ? toggleableContent.dataset.paramPrefix : '';\n",
       "    const fullParamName = paramPrefix ? `${paramPrefix}${text}` : text;\n",
       "\n",
       "    const originalStyle = element.style;\n",
       "    const computedStyle = window.getComputedStyle(element);\n",
       "    const originalWidth = computedStyle.width;\n",
       "    const originalHTML = element.innerHTML.replace('Copied!', '');\n",
       "\n",
       "    navigator.clipboard.writeText(fullParamName)\n",
       "        .then(() => {\n",
       "            element.style.width = originalWidth;\n",
       "            element.style.color = 'green';\n",
       "            element.innerHTML = \"Copied!\";\n",
       "\n",
       "            setTimeout(() => {\n",
       "                element.innerHTML = originalHTML;\n",
       "                element.style = originalStyle;\n",
       "            }, 2000);\n",
       "        })\n",
       "        .catch(err => {\n",
       "            console.error('Failed to copy:', err);\n",
       "            element.style.color = 'red';\n",
       "            element.innerHTML = \"Failed!\";\n",
       "            setTimeout(() => {\n",
       "                element.innerHTML = originalHTML;\n",
       "                element.style = originalStyle;\n",
       "            }, 2000);\n",
       "        });\n",
       "    return false;\n",
       "}\n",
       "\n",
       "document.querySelectorAll('.fa-regular.fa-copy').forEach(function(element) {\n",
       "    const toggleableContent = element.closest('.sk-toggleable__content');\n",
       "    const paramPrefix = toggleableContent ? toggleableContent.dataset.paramPrefix : '';\n",
       "    const paramName = element.parentElement.nextElementSibling.textContent.trim();\n",
       "    const fullParamName = paramPrefix ? `${paramPrefix}${paramName}` : paramName;\n",
       "\n",
       "    element.setAttribute('title', fullParamName);\n",
       "});\n",
       "</script></body>"
      ],
      "text/plain": [
       "NMF(n_components=7, random_state=42)"
      ]
     },
     "execution_count": 10,
     "metadata": {},
     "output_type": "execute_result"
    }
   ],
   "source": [
    "# This can take awhile, we're dealing with a large amount of documents!\n",
    "nmf_model.fit(dtm)"
   ]
  },
  {
   "cell_type": "markdown",
   "metadata": {},
   "source": [
    "## Displaying Topics"
   ]
  },
  {
   "cell_type": "code",
   "execution_count": 15,
   "metadata": {},
   "outputs": [
    {
     "data": {
      "text/plain": [
       "54777"
      ]
     },
     "execution_count": 15,
     "metadata": {},
     "output_type": "execute_result"
    }
   ],
   "source": [
    "len(tfidf.get_feature_names_out())"
   ]
  },
  {
   "cell_type": "code",
   "execution_count": 13,
   "metadata": {
    "collapsed": true
   },
   "outputs": [],
   "source": [
    "import random"
   ]
  },
  {
   "cell_type": "code",
   "execution_count": 16,
   "metadata": {},
   "outputs": [
    {
     "name": "stdout",
     "output_type": "stream",
     "text": [
      "independiente\n",
      "emptying\n",
      "adjusts\n",
      "wrangling\n",
      "franceschini\n",
      "lyden\n",
      "hickman\n",
      "publicist\n",
      "depressive\n",
      "fistfight\n"
     ]
    }
   ],
   "source": [
    "for i in range(10):\n",
    "    random_word_id = random.randint(0,54776)\n",
    "    print(tfidf.get_feature_names_out()[random_word_id])"
   ]
  },
  {
   "cell_type": "code",
   "execution_count": 17,
   "metadata": {},
   "outputs": [
    {
     "name": "stdout",
     "output_type": "stream",
     "text": [
      "pooh\n",
      "kalispell\n",
      "cava\n",
      "strays\n",
      "clad\n",
      "unsure\n",
      "winona\n",
      "snobs\n",
      "spurring\n",
      "thrived\n"
     ]
    }
   ],
   "source": [
    "for i in range(10):\n",
    "    random_word_id = random.randint(0,54776)\n",
    "    print(tfidf.get_feature_names_out()[random_word_id])"
   ]
  },
  {
   "cell_type": "code",
   "execution_count": 18,
   "metadata": {},
   "outputs": [
    {
     "data": {
      "text/plain": [
       "7"
      ]
     },
     "execution_count": 18,
     "metadata": {},
     "output_type": "execute_result"
    }
   ],
   "source": [
    "len(nmf_model.components_)"
   ]
  },
  {
   "cell_type": "code",
   "execution_count": 19,
   "metadata": {},
   "outputs": [
    {
     "data": {
      "text/plain": [
       "array([[0.00000000e+00, 2.51270507e-01, 0.00000000e+00, ...,\n",
       "        1.71376078e-03, 2.39241571e-04, 0.00000000e+00],\n",
       "       [0.00000000e+00, 0.00000000e+00, 0.00000000e+00, ...,\n",
       "        0.00000000e+00, 0.00000000e+00, 0.00000000e+00],\n",
       "       [0.00000000e+00, 8.23172575e-02, 0.00000000e+00, ...,\n",
       "        0.00000000e+00, 0.00000000e+00, 0.00000000e+00],\n",
       "       ...,\n",
       "       [0.00000000e+00, 3.12287576e-02, 0.00000000e+00, ...,\n",
       "        0.00000000e+00, 0.00000000e+00, 0.00000000e+00],\n",
       "       [5.90615701e-03, 0.00000000e+00, 1.50483058e-03, ...,\n",
       "        7.06176596e-04, 5.86173445e-04, 6.90910657e-04],\n",
       "       [4.01955802e-03, 5.31379095e-02, 0.00000000e+00, ...,\n",
       "        0.00000000e+00, 0.00000000e+00, 0.00000000e+00]], shape=(7, 54777))"
      ]
     },
     "execution_count": 19,
     "metadata": {},
     "output_type": "execute_result"
    }
   ],
   "source": [
    "nmf_model.components_"
   ]
  },
  {
   "cell_type": "code",
   "execution_count": 20,
   "metadata": {},
   "outputs": [
    {
     "data": {
      "text/plain": [
       "54777"
      ]
     },
     "execution_count": 20,
     "metadata": {},
     "output_type": "execute_result"
    }
   ],
   "source": [
    "len(nmf_model.components_[0])"
   ]
  },
  {
   "cell_type": "code",
   "execution_count": 21,
   "metadata": {
    "collapsed": true
   },
   "outputs": [],
   "source": [
    "single_topic = nmf_model.components_[0]"
   ]
  },
  {
   "cell_type": "code",
   "execution_count": 22,
   "metadata": {},
   "outputs": [
    {
     "data": {
      "text/plain": [
       "array([    0, 27208, 27206, ..., 36283, 54692, 42993], shape=(54777,))"
      ]
     },
     "execution_count": 22,
     "metadata": {},
     "output_type": "execute_result"
    }
   ],
   "source": [
    "# Returns the indices that would sort this array.\n",
    "single_topic.argsort()"
   ]
  },
  {
   "cell_type": "code",
   "execution_count": 23,
   "metadata": {},
   "outputs": [
    {
     "data": {
      "text/plain": [
       "np.float64(0.0)"
      ]
     },
     "execution_count": 23,
     "metadata": {},
     "output_type": "execute_result"
    }
   ],
   "source": [
    "# Word least representative of this topic\n",
    "single_topic[18302]"
   ]
  },
  {
   "cell_type": "code",
   "execution_count": 24,
   "metadata": {},
   "outputs": [
    {
     "data": {
      "text/plain": [
       "np.float64(2.0162023252918027)"
      ]
     },
     "execution_count": 24,
     "metadata": {},
     "output_type": "execute_result"
    }
   ],
   "source": [
    "# Word most representative of this topic\n",
    "single_topic[42993]"
   ]
  },
  {
   "cell_type": "code",
   "execution_count": 25,
   "metadata": {},
   "outputs": [
    {
     "data": {
      "text/plain": [
       "array([14441, 36310, 53989, 52615, 47218, 53152, 19307, 36283, 54692,\n",
       "       42993])"
      ]
     },
     "execution_count": 25,
     "metadata": {},
     "output_type": "execute_result"
    }
   ],
   "source": [
    "# Top 10 words for this topic:\n",
    "single_topic.argsort()[-10:]"
   ]
  },
  {
   "cell_type": "code",
   "execution_count": 26,
   "metadata": {
    "collapsed": true
   },
   "outputs": [],
   "source": [
    "top_word_indices = single_topic.argsort()[-10:]"
   ]
  },
  {
   "cell_type": "code",
   "execution_count": 27,
   "metadata": {},
   "outputs": [
    {
     "name": "stdout",
     "output_type": "stream",
     "text": [
      "disease\n",
      "percent\n",
      "women\n",
      "virus\n",
      "study\n",
      "water\n",
      "food\n",
      "people\n",
      "zika\n",
      "says\n"
     ]
    }
   ],
   "source": [
    "for index in top_word_indices:\n",
    "    print(tfidf.get_feature_names_out()[index])"
   ]
  },
  {
   "cell_type": "markdown",
   "metadata": {},
   "source": [
    "These look like business articles perhaps... Let's confirm by using .transform() on our vectorized articles to attach a label number. But first, let's view all the 10 topics found."
   ]
  },
  {
   "cell_type": "code",
   "execution_count": 28,
   "metadata": {},
   "outputs": [
    {
     "name": "stdout",
     "output_type": "stream",
     "text": [
      "THE TOP 15 WORDS FOR TOPIC #0\n",
      "['new', 'research', 'like', 'patients', 'health', 'disease', 'percent', 'women', 'virus', 'study', 'water', 'food', 'people', 'zika', 'says']\n",
      "\n",
      "\n",
      "THE TOP 15 WORDS FOR TOPIC #1\n",
      "['gop', 'pence', 'presidential', 'russia', 'administration', 'election', 'republican', 'obama', 'white', 'house', 'donald', 'campaign', 'said', 'president', 'trump']\n",
      "\n",
      "\n",
      "THE TOP 15 WORDS FOR TOPIC #2\n",
      "['senate', 'house', 'people', 'act', 'law', 'tax', 'plan', 'republicans', 'affordable', 'obamacare', 'coverage', 'medicaid', 'insurance', 'care', 'health']\n",
      "\n",
      "\n",
      "THE TOP 15 WORDS FOR TOPIC #3\n",
      "['officers', 'syria', 'security', 'department', 'law', 'isis', 'russia', 'government', 'state', 'attack', 'president', 'reports', 'court', 'said', 'police']\n",
      "\n",
      "\n",
      "THE TOP 15 WORDS FOR TOPIC #4\n",
      "['primary', 'cruz', 'election', 'democrats', 'percent', 'party', 'delegates', 'vote', 'state', 'democratic', 'hillary', 'campaign', 'voters', 'sanders', 'clinton']\n",
      "\n",
      "\n",
      "THE TOP 15 WORDS FOR TOPIC #5\n",
      "['love', 've', 'don', 'album', 'way', 'time', 'song', 'life', 'really', 'know', 'people', 'think', 'just', 'music', 'like']\n",
      "\n",
      "\n",
      "THE TOP 15 WORDS FOR TOPIC #6\n",
      "['teacher', 'state', 'high', 'says', 'parents', 'devos', 'children', 'college', 'kids', 'teachers', 'student', 'education', 'schools', 'school', 'students']\n",
      "\n",
      "\n"
     ]
    }
   ],
   "source": [
    "for index,topic in enumerate(nmf_model.components_):\n",
    "    print(f'THE TOP 15 WORDS FOR TOPIC #{index}')\n",
    "    print([tfidf.get_feature_names_out()[i] for i in topic.argsort()[-15:]])\n",
    "    print('\\n')"
   ]
  },
  {
   "cell_type": "markdown",
   "metadata": {},
   "source": [
    "### Attaching Discovered Topic Labels to Original Articles"
   ]
  },
  {
   "cell_type": "code",
   "execution_count": 29,
   "metadata": {},
   "outputs": [
    {
     "data": {
      "text/plain": [
       "<Compressed Sparse Row sparse matrix of dtype 'float64'\n",
       "\twith 3033388 stored elements and shape (11992, 54777)>"
      ]
     },
     "execution_count": 29,
     "metadata": {},
     "output_type": "execute_result"
    }
   ],
   "source": [
    "dtm"
   ]
  },
  {
   "cell_type": "code",
   "execution_count": 30,
   "metadata": {},
   "outputs": [
    {
     "data": {
      "text/plain": [
       "(11992, 54777)"
      ]
     },
     "execution_count": 30,
     "metadata": {},
     "output_type": "execute_result"
    }
   ],
   "source": [
    "dtm.shape"
   ]
  },
  {
   "cell_type": "code",
   "execution_count": 31,
   "metadata": {},
   "outputs": [
    {
     "data": {
      "text/plain": [
       "11992"
      ]
     },
     "execution_count": 31,
     "metadata": {},
     "output_type": "execute_result"
    }
   ],
   "source": [
    "len(npr)"
   ]
  },
  {
   "cell_type": "code",
   "execution_count": 32,
   "metadata": {
    "collapsed": true
   },
   "outputs": [],
   "source": [
    "topic_results = nmf_model.transform(dtm)"
   ]
  },
  {
   "cell_type": "code",
   "execution_count": 33,
   "metadata": {},
   "outputs": [
    {
     "data": {
      "text/plain": [
       "(11992, 7)"
      ]
     },
     "execution_count": 33,
     "metadata": {},
     "output_type": "execute_result"
    }
   ],
   "source": [
    "topic_results.shape"
   ]
  },
  {
   "cell_type": "code",
   "execution_count": 34,
   "metadata": {},
   "outputs": [
    {
     "data": {
      "text/plain": [
       "array([0.        , 0.12079653, 0.00139891, 0.05915242, 0.01519226,\n",
       "       0.        , 0.        ])"
      ]
     },
     "execution_count": 34,
     "metadata": {},
     "output_type": "execute_result"
    }
   ],
   "source": [
    "topic_results[0]"
   ]
  },
  {
   "cell_type": "code",
   "execution_count": 35,
   "metadata": {},
   "outputs": [
    {
     "data": {
      "text/plain": [
       "array([0.  , 0.12, 0.  , 0.06, 0.02, 0.  , 0.  ])"
      ]
     },
     "execution_count": 35,
     "metadata": {},
     "output_type": "execute_result"
    }
   ],
   "source": [
    "topic_results[0].round(2)"
   ]
  },
  {
   "cell_type": "code",
   "execution_count": 36,
   "metadata": {},
   "outputs": [
    {
     "data": {
      "text/plain": [
       "np.int64(1)"
      ]
     },
     "execution_count": 36,
     "metadata": {},
     "output_type": "execute_result"
    }
   ],
   "source": [
    "topic_results[0].argmax()"
   ]
  },
  {
   "cell_type": "markdown",
   "metadata": {},
   "source": [
    "This means that our model thinks that the first article belongs to topic #1."
   ]
  },
  {
   "cell_type": "markdown",
   "metadata": {},
   "source": [
    "### Combining with Original Data"
   ]
  },
  {
   "cell_type": "code",
   "execution_count": 37,
   "metadata": {},
   "outputs": [
    {
     "data": {
      "application/vnd.microsoft.datawrangler.viewer.v0+json": {
       "columns": [
        {
         "name": "index",
         "rawType": "int64",
         "type": "integer"
        },
        {
         "name": "Article",
         "rawType": "object",
         "type": "string"
        }
       ],
       "ref": "142a9251-b258-4a83-8da2-b883ede552c2",
       "rows": [
        [
         "0",
         "In the Washington of 2016, even when the policy can be bipartisan, the politics cannot. And in that sense, this year shows little sign of ending on Dec. 31. When President Obama moved to sanction Russia over its alleged interference in the U. S. election just concluded, some Republicans who had long called for similar or more severe measures could scarcely bring themselves to approve. House Speaker Paul Ryan called the Obama measures ”appropriate” but also ”overdue” and ”a prime example of this administration’s ineffective foreign policy that has left America weaker in the eyes of the world.” Other GOP leaders sounded much the same theme. ”[We have] been urging President Obama for years to take strong action to deter Russia’s worldwide aggression, including its   operations,” wrote Rep. Devin Nunes,  . chairman of the House Intelligence Committee. ”Now with just a few weeks left in office, the president has suddenly decided that some stronger measures are indeed warranted.” Appearing on CNN, frequent Obama critic Trent Franks,  . called for ”much tougher” actions and said three times that Obama had ”finally found his tongue.” Meanwhile, at    and on Fox News, various spokesmen for   Trump said Obama’s real target was not the Russians at all but the man poised to take over the White House in less than three weeks. They spoke of Obama trying to ”tie Trump’s hands” or ”box him in,” meaning the   would be forced either to keep the sanctions or be at odds with Republicans who want to be tougher still on Moscow. Throughout 2016, Trump has repeatedly called not for sanctions but for closer ties with Russia, including cooperation in the fight against ISIS. Russia has battled ISIS in Syria on behalf of that country’s embattled dictator, Bashar Assad, bombing the besieged   city of Aleppo that fell to Assad’s forces this week. During the campaign, Trump even urged Russia to ”find” missing emails from the private server of his opponent, Hillary Clinton. He has exchanged public encomiums with Russian President Vladimir Putin on several occasions and added his doubts about the current U. S. levels of support for NATO  —   Putin’s longtime nemesis. There have also been suggestions that Trump’s extensive business dealings with various Russians are the reason he refuses to release his tax returns. All those issues have been disquieting to some Republicans for many months. Sens. John McCain,  . and Lindsay Graham,  . C. prominent senior members of the Armed Services Committee, have accepted the assessment of 17 U. S. intelligence agencies regarding the role of Russia in the hacking of various Democratic committees last year. That includes the FBI and CIA consensus that the Russian goal was not just to discredit American democracy but to defeat Clinton and elect Trump. They say the great majority of their Senate colleagues agree with them, and McCain has slated an Armed Services hearing on cyberthreats for Jan. 5. But the politicizing of the Russian actions  —   the idea that they helped Trump win  —   has also made the issue difficult for Republican leaders. It has allowed Trump supporters to push back on the intelligence agencies and say the entire issue is designed to undermine Trump’s legitimacy. Senate Majority Leader Mitch McConnell has so far resisted calls for a select committee to look into the Russian interference in the 2016 campaign. He has said it is enough for Sen. Richard Burr,  . C. to look into it as chairman of the Senate Intelligence Committee. Typically, Republican leaders and spokesmen say there is no evidence that the actual voting or tallying on Nov. 8 was compromised, and that is true. But it is also a red herring, as interference in those functions has not been alleged and is not the focus of the U. S. intelligence agencies’ concern. For his part, Trump has shown little interest in delving into what happened. He has cast doubt on the U. S. intelligence reports to date and suggested ”no one really knows what happened.” He also has suggested that computers make it very difficult to know who is using them. This week, Trump said it was time to ”get on with our lives and do more important things.” However, at week’s end he did agree to have an intelligence briefing on the subject next week. The   has not wanted the daily intelligence briefings available to him in recent weeks, preferring that they be given to the men he has chosen as his vice president (Mike Pence) and national security adviser (Mike Flynn) with Trump taking them only occasionally. The irony of this controversy arising at the eleventh hour of the Obama presidency can scarcely be overstated, and it defines the dilemma facing both the outgoing president and the incoming party in control. Obama appears to have been reluctant to retaliate against the Russian hacking before the election for fear of seeming to interfere with the election himself. The Republicans, meanwhile, have for years called for greater confrontation with the Russians, with Obama usually resisting. Obama did join with NATO in punishing the Russians with economic sanctions over the annexation of Crimea. Those sanctions may have been painful, coming as they did alongside falling prices for oil  —   the commodity that keeps the Russian economy afloat. On other occasions, despite Russian provocations through surrogates in Syria and elsewhere, Obama did not make overt moves to force Russia’s hand. That includes occasions when Russia was believed to be hacking critical computer systems in neighboring Ukraine, Estonia and Poland. But this week, following a chorus of confirmation from the U. S. intelligence community regarding the Russian role in computer hacking in the political campaign, Obama acted. He imposed a set of mostly diplomatic actions such as sanctioning some Russian officials, closing two diplomatic compounds and expelling 35 Russian diplomats. There may have been more damaging measures taken covertly, and some Russophobes in Washington held out hope for that. But the visible portion of the program scarcely amounted to major retribution. And Putin saw fit to diminish the Obama sanctions further by declining to respond. Although his government has steadfastly denied any interference in the U. S. election, Putin rejected his own foreign minister’s recommended package of    responses. (He even sent an invitation for U. S. diplomats to send their children to a holiday party in Moscow.) That allowed Putin to appear for the moment to be ”the bigger man,” even as he spurned Obama and kept up what has looked like a public bromance with Trump, who tweeted: ”Great move on delay (by V. Putin)   I always knew he was very smart!” At the moment it may seem that the overall Russia question amounts to the first crisis facing the Trump presidency. Whether forced by this campaign interference issue or not, Trump must grasp the nettle of a relationship Mitt Romney once called the greatest threat to U. S. security in the world. To be sure, Trump needs to dispel doubts about his ability to stand up to Putin, who has bullied and cajoled his way to center stage in recent world affairs. But Trump also seems determined to turn the page on past U. S. commitments, from free trade philosophy to funding of NATO and the United Nations. And if his Twitter account is any guide, Trump shows little concern about the conundrum others perceive to be facing him. Above all, Trump has shown himself determined to play by his own rules. A year ago, many were confident that would not work for him in the world of presidential politics. We are about to find out whether it works for him in the Oval Office."
        ],
        [
         "1",
         "  Donald Trump has used Twitter  —   his preferred means of communication  —   to weigh in on a swath of foreign policy issues over the past few weeks. His comments give a glimpse into how his incoming administration will deal with pressing foreign matters  —   but also highlight how reactionary comments on social media can immediately spur international concern and attention. And his staff has indicated that taking to Twitter to air his concerns or, often, grievances, won’t end once he enters the Oval Office. On Wednesday, Trump blasted the U. S.’s abstention from the U. N. Security Council vote on Israeli settlements earlier this month. The tweets came just hours before Secretary of State John Kerry gave a speech defending the decision and calling the continued building of settlements on Palestinian territory in the West Bank a threat to the   solution in the region. Trump’s support for Israel and Prime Minister Benjamin Netanyahu  —   who has had a fraught relationship with President Obama  —   may be the biggest forthcoming shift in immediate foreign policy between the outgoing and incoming administrations. Throughout the campaign, he pledged that his administration would be a steadfast ally of Israel. To underscore that, Netanyahu replied to one of Trump’s morning tweets, thanking him  —   and also his children Donald Jr. and Ivanka, who are close advisers  —   for their support. Ivanka converted to Judaism when she married her husband, Jared Kushner. An Israeli official told CNN the government will give the Trump administration ”detailed, sensitive information” proving that the U. S. worked to push through the resolution. The Obama administration has denied those claims. Last week, after the U. S. decided not to veto the resolution, Trump also tweeted that ”things will be different” come his inauguration, and then on Monday he again blasted the U. N. as ineffective. The Israeli settlement issue has been at the forefront in recent days, but last week Trump also weighed in on nuclear issues. In a tweet, Trump called for the U. S. to strengthen its nuclear arsenal. MSNBC’s Morning Joe reported that the   told them he wanted an ”arms race. We will outmatch them at every pass.” As the Washington Post’s Dan Zak told NPR’s Robert Siegel on All Things Considered last Friday, Trump was inconsistent in his statements about nuclear weapons during the campaign. ”Trump said, you know, he’d be the last to use nuclear weapons. Nuclear weapons are a horror. He seemed to understand what they’re capable of doing,” Zak said. ”At the same time, he said it was only a matter of time until countries like South Korea and Japan get nuclear weapons. He seemed to tacitly or not so tacitly endorse proliferation, again going against decades of international policy.” Trump also slammed China for its seizure of an unmanned U. S. Navy underwater drone, calling it ”unpresidented” in a tweet before correcting the typo in a new tweet. After talks with the Pentagon, China agreed to return the drone, but then Trump later said the country should keep it. It’s not the first time Trump has stoked tensions with China. In a stark break with protocol, Trump spoke on the phone with Taiwanese President Tsai   earlier this month. Beijing considers Taiwan to be a renegade province and doesn’t recognize it, and most other countries don’t either. The U. S. has operated under a ”one China” policy for more than four decades. Throughout the campaign, Trump blasted China for taking away U. S. jobs and claimed it was intentionally devaluing its currency to boost exports. He has blasted U. S. companies that manufacture goods in China, but as a New York Times story noted Wednesday morning, many of his daughter Ivanka’s clothing and shoe lines are made in China much of Trump’s own apparel line is also made overseas, including in China."
        ],
        [
         "2",
         "  Donald Trump is unabashedly praising Russian President Vladimir Putin, a day after outgoing President Obama issued tough sanctions against the country in response to alleged cyberattacks intended to influence the U. S. elections. In a tweet Friday afternoon, Trump responded to Putin’s decision not to expel U. S. diplomats from Russia in kind after Obama ordered 35 Russian diplomats to leave the country  —   admiring the Russian leader’s strategic approach over President Obama, which is the theme of Trump’s ongoing praise of Putin. Earlier Friday, Putin instead signaled he would wait to decide how to move forward until Trump takes office, giving him someone in the Oval Office who has been much friendlier and quite generous with his praise  —   a stark break from decades of U. S. foreign policy. The Russian Embassy in the U. S. also retweeted Trump’s post, which he pinned to his Twitter timeline so it would remain at the top. Trump also posted it to Instagram. On Thursday, President Obama issued a stinging rebuke to Russia after U. S. intelligence officials concluded the country had directed hacks into Democratic National Committee emails and the personal email account of Democratic nominee Hillary Clinton’s campaign chairman, John Podesta. In a statement, Obama said ”all Americans should be alarmed by Russia’s actions.” Trump’s praise of Putin stands in stark contrast not just with the outgoing administration, but with top leaders of his own party. GOP congressional leaders backed Obama’s actions on Thursday, albeit criticizing the president for being too late in taking a strong stance against Russia. House Speaker Paul Ryan called the sanctions ”overdue” but ”appropriate” and said that ”Russia does not share America’s interests.” ”The Russians are not our friends,” Senate Majority Leader Mitch McConnell said in a statement, calling the sanctions a ”good initial step.” Obama has pointed to the impact of past sanctions by the U. S. and Europe in the wake of the annexation of Crimea, maintaining that his approach has damaged Russia’s economy and isolated the country on the world stage. Trump released a brief statement Thursday evening in response to the latest actions by Obama against Russia simply stating that, ”It’s time for our country to move on to bigger and better things.” He said he would meet with U. S. intelligence officials regarding the cyberhacking, though Trump has repeatedly cast doubt on their findings and throughout the campaign dismissed reports that Russia was behind the attacks. Trump raised eyebrows throughout the campaign with his praise of Putin. ”He’s running his country, and at least he’s a leader, unlike what we have in this country,” Trump said in an interview with MSNBC in December 2015. He was pressed by host Joe Scarborough on the killings of political figures and journalists critical of Putin and deflected. That interview came just after Putin praised Trump as ”talented.” Later in the campaign, Trump suggested Russia should find emails missing from Hillary Clinton’s time as secretary of state, which his aides later said was a joke. At the time, Trump tried distancing himself from Putin. ”I never met Putin. I don’t know who Putin is. He said one nice thing about me. He said I’m a genius. I said, ’Thank you very much’ to the newspaper, and that was the end of it,” Trump said. But not long after, Trump was heavily criticized for saying Putin wasn’t going into Ukraine, even though his country had already annexed Crimea. The Republican nominee also repeated his praise of Putin as ”a leader far more than our president has been” at a national security town hall in early September. One of the most memorable clashes in Trump’s debates with Hillary Clinton was when the Democratic nominee accused him of being a ”puppet” of Russia. Trump shot back: ”No puppet. No puppet. You’re the puppet.” He often criticizes the   ”reset” with Russia that Clinton led in the early days of the Obama administration, even as Trump himself repeatedly has called for friendlier relations with Moscow. With three weeks until Inauguration Day, Trump has increasingly used his Twitter feed to weigh in on foreign policy  —   violating usual protocols where the winner of an election avoids interfering in the foreign policy actions of the sitting president. Trump’s staff has said such use of Twitter to weigh in on foreign policy won’t end once he’s in the Oval Office. So far, he’s outlined his opposition to the United States’ abstention from the U. N. Security Council vote on Israeli settlements earlier this month. Trump has also criticized China for its seizure of an unmanned U. S. Navy underwater drone, before saying the country that he’s often criticized should keep the drone. And Trump has also called for the U. S. to strengthen its nuclear arsenal and recently seemed to encourage a nuclear arms race with Russia  —   perhaps because he believes his strategic approach to Putin will work better than Obama’s."
        ],
        [
         "3",
         "Updated at 2:50 p. m. ET, Russian President Vladimir Putin says Russia won’t be expelling U. S. diplomats in a    response to U. S. sanctions, as his foreign minister had suggested earlier Friday. Instead, he says he will decide how to move forward depending on the actions of   Donald Trump’s administration. Trump took to Twitter on Friday afternoon to praise Putin’s decision, calling it a ”great move.” On Thursday, the White House announced sanctions against Russia in response to what it called ”a   campaign of   operations” against the U. S.  —   including actions meant to interfere with the U. S. presidential election. On Friday, Russian Foreign Minister Sergey Lavrov went on state TV and called the sanctions ”antics” that Russia can’t leave unanswered. He said the U. S. provided no evidence for its claims of Russian cyber operations, NPR’s Lucian Kim reports. ”The Kremlin has consistently denied accusations that its hackers had broken into the Democratic National Committee or tried to sway the U. S. election,” Lucian notes. And he proposed specific counteractions Russia could take. As we reported Thursday, President Obama’s executive order calls for 35 Russian diplomats  —   described by the White House as ”intelligence operatives”  —   to be expelled from the U. S. and for two Russian facilities in the U. S. to be closed. Sanctions will also be imposed on several Russian individuals and organizations, and Obama’s statement says more actions will be taken, ”some of which will not be publicized.” Lavrov announced plans for Russia to respond in kind, as Lucian reported from Moscow. Lavrov’s plan, which needed Putin’s approval, called for 35 American diplomats to be expelled and for U. S. diplomats to ”lose access to two buildings, just as Russian diplomats will no longer be able to use two retreats in Maryland and New York,” Lucian reports. But just two hours after Lavrov’s comments, Putin announced that nothing of the sort was happening. Putin called the Obama administration’s actions provocative and said Russia had grounds for a response. He said the Kremlin would reserve the right to a countermeasure  —   but that it would not ”stoop to the level of irresponsible diplomacy,” as Lucian translated it. At least for now, no diplomats will be expelled or barred from using facilities in Moscow, he said. Any actions will wait until Trump takes office. ”It is regrettable that the Obama administration is ending its term in this manner,” Putin said. ”Nevertheless, I offer my New Year greetings to President Obama and his family. ”My season’s greetings also to   Donald Trump and the American people. I wish all of you happiness and prosperity.”"
        ],
        [
         "4",
         "From photography, illustration and video, to data visualizations and immersive experiences, visuals are an important part of our storytelling at NPR. Interwoven with the written and the spoken word, images  —   another visual language  —   can create deeper understanding and empathy for the struggles and triumphs we face together. We told a lot of stories in 2016  —   far more than we can list here. So, instead, here’s a small selection of our favorite pieces, highlighting some of the work we’re most proud of, some of the biggest stories we reported, and some of the stories we had the most fun telling. Transport yourself to Rocky Mountain National Park, with all its sights and sounds, in an immersive geology lesson with Oregon State University geology professor Eric Kirby, who discusses the geologic history of the Rockies in   video. ”Today, Indians use much less energy per person than Americans or Chinese people. Many of its 1. 2   population live on roughly $2 a day. But what if all of those people had electricity at night, a refrigerator, a car? ”With ambitious goals to improve the standard of living, and 400 million people lacking reliable electricity, ’This means we need to enhance the energy supply by four to five times what it is now,’ says Ajay Mathur, a climate expert who runs the Energy and Resources Institute in New Delhi. He says that no matter how fast India increases its clean energy, like solar and wind, the country will probably also double its use of coal between now and 2030. ”Todd Stern, who served till last month as the top U. S. envoy on climate change, says India has a steeper hill to climb than any other country. ’There is no country, probably, with a bigger challenge  —   looking at the number of people, the level of their economic growth, the number of people who don’t have access to electricity,’ he says.” Can India’s Sacred But ’Dead’ Yamuna River Be Saved? India’s Big Battle: Development Vs. Pollution, In India’s Sundarbans, People And Tigers Try To Coexist In A Shrinking Space, ”Trying to understand the Trump Organization is a daunting task.   Donald Trump has not released his tax returns, so the best clues about his privately held business interests come from a financial disclosure form he released in May. ”The document covers scores of pages with small type, and suggests he is financially involved with hundreds of companies, including some that simply license his name. ”A dive into that disclosure form, submitted to the Office of Government Ethics, shows his largest sources of revenue are golf courses and   rents. But his interests are far flung, and include media, retail, entertainment and much more. ”Those business interests are affected by government agencies and policies. NPR scoured this document to create an overview of some of his business assets and operations (excluding debts) and the possible areas where conflicts may arise.” The protests at the Standing Rock Reservation, which started in early 2016, had small roots but grew into the thousands, drawing support from Native Americans from across the country, as well as activists who joined in solidarity against the proposed route of the   Dakota Access Pipeline just north of the reservation. In December, those protests won a concession from the federal government: The Army Corps of Engineers announced it would deny the permit necessary to build the oil pipeline in that area. In Their Own Words: The ’Water Protectors’ Of Standing Rock, Protesters Mark A Solemn Thanksgiving Day At Standing Rock, Protesters, Police Still Clashing Over Disputed North Dakota Pipeline, N. D. Pipeline Protester: ’It’s About Our Rights As Native People’ ”Up to 1 in 5 kids living in the U. S. shows signs or symptoms of a mental health disorder in a given year. So in a school classroom of 25 students, five of them may be struggling with the same issues many adults deal with: depression, anxiety, substance abuse. And yet most children  —   nearly 80 percent  —   who need mental health services won’t get them. ”Whether treated or not, the children do go to school. And the problems they face can tie into major problems found in schools: chronic absence, low achievement, disruptive behavior and dropping out. ”Experts say schools could play a role in identifying students with problems and helping them succeed. Yet it’s a role many schools are not prepared for.” ”Grapefruit’s bitterness can make it hard to love. Indeed, people often smother it in sugar just to get it down. And yet Americans were once urged to sweeten it with salt. ”Ad campaigns from the first and second world wars tried to convince us that ’Grapefruit Tastes Sweeter With Salt!’ as one 1946 ad for Morton’s in Life magazine put it. The pairing, these ads swore, enhanced the flavor. ”In our   world, these curious culinary time capsules raise the question: Does salt really make grapefruit taste sweeter? And if this practice was once common, why do few people seem to eat grapefruit this way today?” Rio de Janeiro hosted the world’s elite athletes in an Olympics that promised transcendent moments in sports  —   and potential controversies outside of the competition. The Summer Games began Aug. 5, and more than 10, 000 athletes from 206 countries participated. From concerns over the Zika virus and Russian athletes banned on doping charges to incredible wins by the U. S. women’s gymnastics team and sweet moments of   support, the 2016 Olympics was one of the biggest events  —   and biggest stories  —   of the year. ’A Fantasy Of A Fantasy’: U. S. Fencer Jason Pryor On Reaching The Olympics, In Rio’s Favelas,   Benefits From Olympics Have Yet To Materialize, How The Olympic Medal Tables Explain The World, ”Philando Castile spent his driving career trapped in a seemingly endless cycle of traffic stops, fines, court appearances, revocations and reinstatements, raising questions about bias, race and luck. ”Castile’s trouble with traffic stops began when he still had his learner’s permit. He was stopped a day before his 19th birthday. From there, he descended into a seemingly endless cycle of traffic stops, fines, court appearances, late fees, revocations and reinstatements in various jurisdictions. ”Court records raise big questions: Was Castile targeted by police? Or was he just a careless or unlucky driver? ”An NPR analysis of those records shows that the    cafeteria worker who was shot and killed by a police officer during a traffic stop in a St. Paul, Minn. suburb, was stopped by police 46 times and racked up more than $6, 000 in fines. Another curious statistic: Of all of the stops, only six of them were things a police officer would notice from outside a car  —   things like speeding or having a broken muffler.” During a week in Cleveland, photographer Gabriella Demczuk explored the ways that people embraced and challenged the Republican Party’s mission in this election  —   both from inside and outside the party. Then in Philadelphia, Demczuk continued her exploration of the fractures in America’s political system, examining the Democratic Party’s attempt to make itself ”stronger together.” True Believers, Protesters And Trump: Scenes From Cleveland, Dissent, Drama And Unity At The Democratic Convention, ” ’With recent events and political environment, these weapons will be harder to get a hold of.’ ’This is what your   dreams it could be when it grows up.’ ’I can meet . .. near the FL Mall in Orlando or any other time.” ”Cash is king.’ ”These classified advertisements for   weapons were listed on Armslist, a website where anyone can advertise a firearm they’d like to sell, and anyone can contact a seller with an offer to buy. The site is legal. But there’s no way to know whether buyers and sellers who meet through Armslist are following federal, state or local background check rules. ”We wanted to see how many   firearms  —   defined here as handguns and rifles able to rapidly fire a large number of bullets, one shot per trigger pull, without having to reload  —   can be currently found on Armslist, and how quickly new listings appear. This provides a window into the difficulty of regulating access to a type of weapon frequently used in mass shootings.” Our favorite albums of the year draw from all of the genres we cover at NPR Music, from rock, pop and   to classical, jazz, electronic and international artists. These are the records NPR Music couldn’t stop playing  —   albums that speak to a moment and a lifetime, that party, and that exist in their own worlds. Our list of the year’s best songs may begin with Beyoncé and end with Drake, but between those two stars you’ll find a   mix that celebrates all of the music we love. These are the pop anthems, rallying cries, party jams, riff rockers, perfumed piano pieces and emotional exorcisms that we loved to share this year. ”Across the country, private organizations,   groups and individuals quietly have been working to ease the plight of Syrian refugees. More than 11, 000 have arrived in the U. S. this year, fulfilling a pledge by the Obama administration. That figure far exceeds the number of Syrian refugees accepted during the previous four years of the Syrian war, and the White House is calling for a big bump in the overall number of refugees next year. ”It had been a long journey for Osama and Ghada and their four kids, who are among the nearly 5 million Syrians who have fled their homeland since the war began in 2011. They survived the war in Syria and had struggled for three years as refugees in Jordan when they were notified by the U. N. refugee agency, UNHCR, that they had been accepted for resettlement in the U. S.” ”There are huge gaps in school funding between affluent and   districts. And, with evidence that money matters, especially for disadvantaged kids, something has to change. ”School Money is a   nationwide collaboration between NPR’s Ed Team and 20 member station reporters exploring how states pay for their public schools and why many are failing to meet the needs of their most vulnerable students.” Is There A Better Way To Pay For America’s Schools? Why America’s Schools Have A Money Problem, President Obama spoke to NPR as he prepared to leave Washington for the holidays, reflecting on the year that was, the 2016 campaign and other news, plus revealing what he’s hearing from citizens. In the   exit interview, NPR’s Steve Inskeep asked Obama about Russian interference in the U. S. election, executive power, the future of the Democratic party and his future role."
        ]
       ],
       "shape": {
        "columns": 1,
        "rows": 5
       }
      },
      "text/html": [
       "<div>\n",
       "<style scoped>\n",
       "    .dataframe tbody tr th:only-of-type {\n",
       "        vertical-align: middle;\n",
       "    }\n",
       "\n",
       "    .dataframe tbody tr th {\n",
       "        vertical-align: top;\n",
       "    }\n",
       "\n",
       "    .dataframe thead th {\n",
       "        text-align: right;\n",
       "    }\n",
       "</style>\n",
       "<table border=\"1\" class=\"dataframe\">\n",
       "  <thead>\n",
       "    <tr style=\"text-align: right;\">\n",
       "      <th></th>\n",
       "      <th>Article</th>\n",
       "    </tr>\n",
       "  </thead>\n",
       "  <tbody>\n",
       "    <tr>\n",
       "      <th>0</th>\n",
       "      <td>In the Washington of 2016, even when the polic...</td>\n",
       "    </tr>\n",
       "    <tr>\n",
       "      <th>1</th>\n",
       "      <td>Donald Trump has used Twitter  —   his prefe...</td>\n",
       "    </tr>\n",
       "    <tr>\n",
       "      <th>2</th>\n",
       "      <td>Donald Trump is unabashedly praising Russian...</td>\n",
       "    </tr>\n",
       "    <tr>\n",
       "      <th>3</th>\n",
       "      <td>Updated at 2:50 p. m. ET, Russian President Vl...</td>\n",
       "    </tr>\n",
       "    <tr>\n",
       "      <th>4</th>\n",
       "      <td>From photography, illustration and video, to d...</td>\n",
       "    </tr>\n",
       "  </tbody>\n",
       "</table>\n",
       "</div>"
      ],
      "text/plain": [
       "                                             Article\n",
       "0  In the Washington of 2016, even when the polic...\n",
       "1    Donald Trump has used Twitter  —   his prefe...\n",
       "2    Donald Trump is unabashedly praising Russian...\n",
       "3  Updated at 2:50 p. m. ET, Russian President Vl...\n",
       "4  From photography, illustration and video, to d..."
      ]
     },
     "execution_count": 37,
     "metadata": {},
     "output_type": "execute_result"
    }
   ],
   "source": [
    "npr.head()"
   ]
  },
  {
   "cell_type": "code",
   "execution_count": 38,
   "metadata": {},
   "outputs": [
    {
     "data": {
      "text/plain": [
       "array([1, 1, 1, ..., 0, 4, 3], shape=(11992,))"
      ]
     },
     "execution_count": 38,
     "metadata": {},
     "output_type": "execute_result"
    }
   ],
   "source": [
    "topic_results.argmax(axis=1)"
   ]
  },
  {
   "cell_type": "code",
   "execution_count": 39,
   "metadata": {
    "collapsed": true
   },
   "outputs": [],
   "source": [
    "npr['Topic'] = topic_results.argmax(axis=1)"
   ]
  },
  {
   "cell_type": "code",
   "execution_count": 40,
   "metadata": {},
   "outputs": [
    {
     "data": {
      "application/vnd.microsoft.datawrangler.viewer.v0+json": {
       "columns": [
        {
         "name": "index",
         "rawType": "int64",
         "type": "integer"
        },
        {
         "name": "Article",
         "rawType": "object",
         "type": "string"
        },
        {
         "name": "Topic",
         "rawType": "int64",
         "type": "integer"
        }
       ],
       "ref": "6d6a2152-6d40-4a46-8341-ce7a371dda4b",
       "rows": [
        [
         "0",
         "In the Washington of 2016, even when the policy can be bipartisan, the politics cannot. And in that sense, this year shows little sign of ending on Dec. 31. When President Obama moved to sanction Russia over its alleged interference in the U. S. election just concluded, some Republicans who had long called for similar or more severe measures could scarcely bring themselves to approve. House Speaker Paul Ryan called the Obama measures ”appropriate” but also ”overdue” and ”a prime example of this administration’s ineffective foreign policy that has left America weaker in the eyes of the world.” Other GOP leaders sounded much the same theme. ”[We have] been urging President Obama for years to take strong action to deter Russia’s worldwide aggression, including its   operations,” wrote Rep. Devin Nunes,  . chairman of the House Intelligence Committee. ”Now with just a few weeks left in office, the president has suddenly decided that some stronger measures are indeed warranted.” Appearing on CNN, frequent Obama critic Trent Franks,  . called for ”much tougher” actions and said three times that Obama had ”finally found his tongue.” Meanwhile, at    and on Fox News, various spokesmen for   Trump said Obama’s real target was not the Russians at all but the man poised to take over the White House in less than three weeks. They spoke of Obama trying to ”tie Trump’s hands” or ”box him in,” meaning the   would be forced either to keep the sanctions or be at odds with Republicans who want to be tougher still on Moscow. Throughout 2016, Trump has repeatedly called not for sanctions but for closer ties with Russia, including cooperation in the fight against ISIS. Russia has battled ISIS in Syria on behalf of that country’s embattled dictator, Bashar Assad, bombing the besieged   city of Aleppo that fell to Assad’s forces this week. During the campaign, Trump even urged Russia to ”find” missing emails from the private server of his opponent, Hillary Clinton. He has exchanged public encomiums with Russian President Vladimir Putin on several occasions and added his doubts about the current U. S. levels of support for NATO  —   Putin’s longtime nemesis. There have also been suggestions that Trump’s extensive business dealings with various Russians are the reason he refuses to release his tax returns. All those issues have been disquieting to some Republicans for many months. Sens. John McCain,  . and Lindsay Graham,  . C. prominent senior members of the Armed Services Committee, have accepted the assessment of 17 U. S. intelligence agencies regarding the role of Russia in the hacking of various Democratic committees last year. That includes the FBI and CIA consensus that the Russian goal was not just to discredit American democracy but to defeat Clinton and elect Trump. They say the great majority of their Senate colleagues agree with them, and McCain has slated an Armed Services hearing on cyberthreats for Jan. 5. But the politicizing of the Russian actions  —   the idea that they helped Trump win  —   has also made the issue difficult for Republican leaders. It has allowed Trump supporters to push back on the intelligence agencies and say the entire issue is designed to undermine Trump’s legitimacy. Senate Majority Leader Mitch McConnell has so far resisted calls for a select committee to look into the Russian interference in the 2016 campaign. He has said it is enough for Sen. Richard Burr,  . C. to look into it as chairman of the Senate Intelligence Committee. Typically, Republican leaders and spokesmen say there is no evidence that the actual voting or tallying on Nov. 8 was compromised, and that is true. But it is also a red herring, as interference in those functions has not been alleged and is not the focus of the U. S. intelligence agencies’ concern. For his part, Trump has shown little interest in delving into what happened. He has cast doubt on the U. S. intelligence reports to date and suggested ”no one really knows what happened.” He also has suggested that computers make it very difficult to know who is using them. This week, Trump said it was time to ”get on with our lives and do more important things.” However, at week’s end he did agree to have an intelligence briefing on the subject next week. The   has not wanted the daily intelligence briefings available to him in recent weeks, preferring that they be given to the men he has chosen as his vice president (Mike Pence) and national security adviser (Mike Flynn) with Trump taking them only occasionally. The irony of this controversy arising at the eleventh hour of the Obama presidency can scarcely be overstated, and it defines the dilemma facing both the outgoing president and the incoming party in control. Obama appears to have been reluctant to retaliate against the Russian hacking before the election for fear of seeming to interfere with the election himself. The Republicans, meanwhile, have for years called for greater confrontation with the Russians, with Obama usually resisting. Obama did join with NATO in punishing the Russians with economic sanctions over the annexation of Crimea. Those sanctions may have been painful, coming as they did alongside falling prices for oil  —   the commodity that keeps the Russian economy afloat. On other occasions, despite Russian provocations through surrogates in Syria and elsewhere, Obama did not make overt moves to force Russia’s hand. That includes occasions when Russia was believed to be hacking critical computer systems in neighboring Ukraine, Estonia and Poland. But this week, following a chorus of confirmation from the U. S. intelligence community regarding the Russian role in computer hacking in the political campaign, Obama acted. He imposed a set of mostly diplomatic actions such as sanctioning some Russian officials, closing two diplomatic compounds and expelling 35 Russian diplomats. There may have been more damaging measures taken covertly, and some Russophobes in Washington held out hope for that. But the visible portion of the program scarcely amounted to major retribution. And Putin saw fit to diminish the Obama sanctions further by declining to respond. Although his government has steadfastly denied any interference in the U. S. election, Putin rejected his own foreign minister’s recommended package of    responses. (He even sent an invitation for U. S. diplomats to send their children to a holiday party in Moscow.) That allowed Putin to appear for the moment to be ”the bigger man,” even as he spurned Obama and kept up what has looked like a public bromance with Trump, who tweeted: ”Great move on delay (by V. Putin)   I always knew he was very smart!” At the moment it may seem that the overall Russia question amounts to the first crisis facing the Trump presidency. Whether forced by this campaign interference issue or not, Trump must grasp the nettle of a relationship Mitt Romney once called the greatest threat to U. S. security in the world. To be sure, Trump needs to dispel doubts about his ability to stand up to Putin, who has bullied and cajoled his way to center stage in recent world affairs. But Trump also seems determined to turn the page on past U. S. commitments, from free trade philosophy to funding of NATO and the United Nations. And if his Twitter account is any guide, Trump shows little concern about the conundrum others perceive to be facing him. Above all, Trump has shown himself determined to play by his own rules. A year ago, many were confident that would not work for him in the world of presidential politics. We are about to find out whether it works for him in the Oval Office.",
         "1"
        ],
        [
         "1",
         "  Donald Trump has used Twitter  —   his preferred means of communication  —   to weigh in on a swath of foreign policy issues over the past few weeks. His comments give a glimpse into how his incoming administration will deal with pressing foreign matters  —   but also highlight how reactionary comments on social media can immediately spur international concern and attention. And his staff has indicated that taking to Twitter to air his concerns or, often, grievances, won’t end once he enters the Oval Office. On Wednesday, Trump blasted the U. S.’s abstention from the U. N. Security Council vote on Israeli settlements earlier this month. The tweets came just hours before Secretary of State John Kerry gave a speech defending the decision and calling the continued building of settlements on Palestinian territory in the West Bank a threat to the   solution in the region. Trump’s support for Israel and Prime Minister Benjamin Netanyahu  —   who has had a fraught relationship with President Obama  —   may be the biggest forthcoming shift in immediate foreign policy between the outgoing and incoming administrations. Throughout the campaign, he pledged that his administration would be a steadfast ally of Israel. To underscore that, Netanyahu replied to one of Trump’s morning tweets, thanking him  —   and also his children Donald Jr. and Ivanka, who are close advisers  —   for their support. Ivanka converted to Judaism when she married her husband, Jared Kushner. An Israeli official told CNN the government will give the Trump administration ”detailed, sensitive information” proving that the U. S. worked to push through the resolution. The Obama administration has denied those claims. Last week, after the U. S. decided not to veto the resolution, Trump also tweeted that ”things will be different” come his inauguration, and then on Monday he again blasted the U. N. as ineffective. The Israeli settlement issue has been at the forefront in recent days, but last week Trump also weighed in on nuclear issues. In a tweet, Trump called for the U. S. to strengthen its nuclear arsenal. MSNBC’s Morning Joe reported that the   told them he wanted an ”arms race. We will outmatch them at every pass.” As the Washington Post’s Dan Zak told NPR’s Robert Siegel on All Things Considered last Friday, Trump was inconsistent in his statements about nuclear weapons during the campaign. ”Trump said, you know, he’d be the last to use nuclear weapons. Nuclear weapons are a horror. He seemed to understand what they’re capable of doing,” Zak said. ”At the same time, he said it was only a matter of time until countries like South Korea and Japan get nuclear weapons. He seemed to tacitly or not so tacitly endorse proliferation, again going against decades of international policy.” Trump also slammed China for its seizure of an unmanned U. S. Navy underwater drone, calling it ”unpresidented” in a tweet before correcting the typo in a new tweet. After talks with the Pentagon, China agreed to return the drone, but then Trump later said the country should keep it. It’s not the first time Trump has stoked tensions with China. In a stark break with protocol, Trump spoke on the phone with Taiwanese President Tsai   earlier this month. Beijing considers Taiwan to be a renegade province and doesn’t recognize it, and most other countries don’t either. The U. S. has operated under a ”one China” policy for more than four decades. Throughout the campaign, Trump blasted China for taking away U. S. jobs and claimed it was intentionally devaluing its currency to boost exports. He has blasted U. S. companies that manufacture goods in China, but as a New York Times story noted Wednesday morning, many of his daughter Ivanka’s clothing and shoe lines are made in China much of Trump’s own apparel line is also made overseas, including in China.",
         "1"
        ],
        [
         "2",
         "  Donald Trump is unabashedly praising Russian President Vladimir Putin, a day after outgoing President Obama issued tough sanctions against the country in response to alleged cyberattacks intended to influence the U. S. elections. In a tweet Friday afternoon, Trump responded to Putin’s decision not to expel U. S. diplomats from Russia in kind after Obama ordered 35 Russian diplomats to leave the country  —   admiring the Russian leader’s strategic approach over President Obama, which is the theme of Trump’s ongoing praise of Putin. Earlier Friday, Putin instead signaled he would wait to decide how to move forward until Trump takes office, giving him someone in the Oval Office who has been much friendlier and quite generous with his praise  —   a stark break from decades of U. S. foreign policy. The Russian Embassy in the U. S. also retweeted Trump’s post, which he pinned to his Twitter timeline so it would remain at the top. Trump also posted it to Instagram. On Thursday, President Obama issued a stinging rebuke to Russia after U. S. intelligence officials concluded the country had directed hacks into Democratic National Committee emails and the personal email account of Democratic nominee Hillary Clinton’s campaign chairman, John Podesta. In a statement, Obama said ”all Americans should be alarmed by Russia’s actions.” Trump’s praise of Putin stands in stark contrast not just with the outgoing administration, but with top leaders of his own party. GOP congressional leaders backed Obama’s actions on Thursday, albeit criticizing the president for being too late in taking a strong stance against Russia. House Speaker Paul Ryan called the sanctions ”overdue” but ”appropriate” and said that ”Russia does not share America’s interests.” ”The Russians are not our friends,” Senate Majority Leader Mitch McConnell said in a statement, calling the sanctions a ”good initial step.” Obama has pointed to the impact of past sanctions by the U. S. and Europe in the wake of the annexation of Crimea, maintaining that his approach has damaged Russia’s economy and isolated the country on the world stage. Trump released a brief statement Thursday evening in response to the latest actions by Obama against Russia simply stating that, ”It’s time for our country to move on to bigger and better things.” He said he would meet with U. S. intelligence officials regarding the cyberhacking, though Trump has repeatedly cast doubt on their findings and throughout the campaign dismissed reports that Russia was behind the attacks. Trump raised eyebrows throughout the campaign with his praise of Putin. ”He’s running his country, and at least he’s a leader, unlike what we have in this country,” Trump said in an interview with MSNBC in December 2015. He was pressed by host Joe Scarborough on the killings of political figures and journalists critical of Putin and deflected. That interview came just after Putin praised Trump as ”talented.” Later in the campaign, Trump suggested Russia should find emails missing from Hillary Clinton’s time as secretary of state, which his aides later said was a joke. At the time, Trump tried distancing himself from Putin. ”I never met Putin. I don’t know who Putin is. He said one nice thing about me. He said I’m a genius. I said, ’Thank you very much’ to the newspaper, and that was the end of it,” Trump said. But not long after, Trump was heavily criticized for saying Putin wasn’t going into Ukraine, even though his country had already annexed Crimea. The Republican nominee also repeated his praise of Putin as ”a leader far more than our president has been” at a national security town hall in early September. One of the most memorable clashes in Trump’s debates with Hillary Clinton was when the Democratic nominee accused him of being a ”puppet” of Russia. Trump shot back: ”No puppet. No puppet. You’re the puppet.” He often criticizes the   ”reset” with Russia that Clinton led in the early days of the Obama administration, even as Trump himself repeatedly has called for friendlier relations with Moscow. With three weeks until Inauguration Day, Trump has increasingly used his Twitter feed to weigh in on foreign policy  —   violating usual protocols where the winner of an election avoids interfering in the foreign policy actions of the sitting president. Trump’s staff has said such use of Twitter to weigh in on foreign policy won’t end once he’s in the Oval Office. So far, he’s outlined his opposition to the United States’ abstention from the U. N. Security Council vote on Israeli settlements earlier this month. Trump has also criticized China for its seizure of an unmanned U. S. Navy underwater drone, before saying the country that he’s often criticized should keep the drone. And Trump has also called for the U. S. to strengthen its nuclear arsenal and recently seemed to encourage a nuclear arms race with Russia  —   perhaps because he believes his strategic approach to Putin will work better than Obama’s.",
         "1"
        ],
        [
         "3",
         "Updated at 2:50 p. m. ET, Russian President Vladimir Putin says Russia won’t be expelling U. S. diplomats in a    response to U. S. sanctions, as his foreign minister had suggested earlier Friday. Instead, he says he will decide how to move forward depending on the actions of   Donald Trump’s administration. Trump took to Twitter on Friday afternoon to praise Putin’s decision, calling it a ”great move.” On Thursday, the White House announced sanctions against Russia in response to what it called ”a   campaign of   operations” against the U. S.  —   including actions meant to interfere with the U. S. presidential election. On Friday, Russian Foreign Minister Sergey Lavrov went on state TV and called the sanctions ”antics” that Russia can’t leave unanswered. He said the U. S. provided no evidence for its claims of Russian cyber operations, NPR’s Lucian Kim reports. ”The Kremlin has consistently denied accusations that its hackers had broken into the Democratic National Committee or tried to sway the U. S. election,” Lucian notes. And he proposed specific counteractions Russia could take. As we reported Thursday, President Obama’s executive order calls for 35 Russian diplomats  —   described by the White House as ”intelligence operatives”  —   to be expelled from the U. S. and for two Russian facilities in the U. S. to be closed. Sanctions will also be imposed on several Russian individuals and organizations, and Obama’s statement says more actions will be taken, ”some of which will not be publicized.” Lavrov announced plans for Russia to respond in kind, as Lucian reported from Moscow. Lavrov’s plan, which needed Putin’s approval, called for 35 American diplomats to be expelled and for U. S. diplomats to ”lose access to two buildings, just as Russian diplomats will no longer be able to use two retreats in Maryland and New York,” Lucian reports. But just two hours after Lavrov’s comments, Putin announced that nothing of the sort was happening. Putin called the Obama administration’s actions provocative and said Russia had grounds for a response. He said the Kremlin would reserve the right to a countermeasure  —   but that it would not ”stoop to the level of irresponsible diplomacy,” as Lucian translated it. At least for now, no diplomats will be expelled or barred from using facilities in Moscow, he said. Any actions will wait until Trump takes office. ”It is regrettable that the Obama administration is ending its term in this manner,” Putin said. ”Nevertheless, I offer my New Year greetings to President Obama and his family. ”My season’s greetings also to   Donald Trump and the American people. I wish all of you happiness and prosperity.”",
         "3"
        ],
        [
         "4",
         "From photography, illustration and video, to data visualizations and immersive experiences, visuals are an important part of our storytelling at NPR. Interwoven with the written and the spoken word, images  —   another visual language  —   can create deeper understanding and empathy for the struggles and triumphs we face together. We told a lot of stories in 2016  —   far more than we can list here. So, instead, here’s a small selection of our favorite pieces, highlighting some of the work we’re most proud of, some of the biggest stories we reported, and some of the stories we had the most fun telling. Transport yourself to Rocky Mountain National Park, with all its sights and sounds, in an immersive geology lesson with Oregon State University geology professor Eric Kirby, who discusses the geologic history of the Rockies in   video. ”Today, Indians use much less energy per person than Americans or Chinese people. Many of its 1. 2   population live on roughly $2 a day. But what if all of those people had electricity at night, a refrigerator, a car? ”With ambitious goals to improve the standard of living, and 400 million people lacking reliable electricity, ’This means we need to enhance the energy supply by four to five times what it is now,’ says Ajay Mathur, a climate expert who runs the Energy and Resources Institute in New Delhi. He says that no matter how fast India increases its clean energy, like solar and wind, the country will probably also double its use of coal between now and 2030. ”Todd Stern, who served till last month as the top U. S. envoy on climate change, says India has a steeper hill to climb than any other country. ’There is no country, probably, with a bigger challenge  —   looking at the number of people, the level of their economic growth, the number of people who don’t have access to electricity,’ he says.” Can India’s Sacred But ’Dead’ Yamuna River Be Saved? India’s Big Battle: Development Vs. Pollution, In India’s Sundarbans, People And Tigers Try To Coexist In A Shrinking Space, ”Trying to understand the Trump Organization is a daunting task.   Donald Trump has not released his tax returns, so the best clues about his privately held business interests come from a financial disclosure form he released in May. ”The document covers scores of pages with small type, and suggests he is financially involved with hundreds of companies, including some that simply license his name. ”A dive into that disclosure form, submitted to the Office of Government Ethics, shows his largest sources of revenue are golf courses and   rents. But his interests are far flung, and include media, retail, entertainment and much more. ”Those business interests are affected by government agencies and policies. NPR scoured this document to create an overview of some of his business assets and operations (excluding debts) and the possible areas where conflicts may arise.” The protests at the Standing Rock Reservation, which started in early 2016, had small roots but grew into the thousands, drawing support from Native Americans from across the country, as well as activists who joined in solidarity against the proposed route of the   Dakota Access Pipeline just north of the reservation. In December, those protests won a concession from the federal government: The Army Corps of Engineers announced it would deny the permit necessary to build the oil pipeline in that area. In Their Own Words: The ’Water Protectors’ Of Standing Rock, Protesters Mark A Solemn Thanksgiving Day At Standing Rock, Protesters, Police Still Clashing Over Disputed North Dakota Pipeline, N. D. Pipeline Protester: ’It’s About Our Rights As Native People’ ”Up to 1 in 5 kids living in the U. S. shows signs or symptoms of a mental health disorder in a given year. So in a school classroom of 25 students, five of them may be struggling with the same issues many adults deal with: depression, anxiety, substance abuse. And yet most children  —   nearly 80 percent  —   who need mental health services won’t get them. ”Whether treated or not, the children do go to school. And the problems they face can tie into major problems found in schools: chronic absence, low achievement, disruptive behavior and dropping out. ”Experts say schools could play a role in identifying students with problems and helping them succeed. Yet it’s a role many schools are not prepared for.” ”Grapefruit’s bitterness can make it hard to love. Indeed, people often smother it in sugar just to get it down. And yet Americans were once urged to sweeten it with salt. ”Ad campaigns from the first and second world wars tried to convince us that ’Grapefruit Tastes Sweeter With Salt!’ as one 1946 ad for Morton’s in Life magazine put it. The pairing, these ads swore, enhanced the flavor. ”In our   world, these curious culinary time capsules raise the question: Does salt really make grapefruit taste sweeter? And if this practice was once common, why do few people seem to eat grapefruit this way today?” Rio de Janeiro hosted the world’s elite athletes in an Olympics that promised transcendent moments in sports  —   and potential controversies outside of the competition. The Summer Games began Aug. 5, and more than 10, 000 athletes from 206 countries participated. From concerns over the Zika virus and Russian athletes banned on doping charges to incredible wins by the U. S. women’s gymnastics team and sweet moments of   support, the 2016 Olympics was one of the biggest events  —   and biggest stories  —   of the year. ’A Fantasy Of A Fantasy’: U. S. Fencer Jason Pryor On Reaching The Olympics, In Rio’s Favelas,   Benefits From Olympics Have Yet To Materialize, How The Olympic Medal Tables Explain The World, ”Philando Castile spent his driving career trapped in a seemingly endless cycle of traffic stops, fines, court appearances, revocations and reinstatements, raising questions about bias, race and luck. ”Castile’s trouble with traffic stops began when he still had his learner’s permit. He was stopped a day before his 19th birthday. From there, he descended into a seemingly endless cycle of traffic stops, fines, court appearances, late fees, revocations and reinstatements in various jurisdictions. ”Court records raise big questions: Was Castile targeted by police? Or was he just a careless or unlucky driver? ”An NPR analysis of those records shows that the    cafeteria worker who was shot and killed by a police officer during a traffic stop in a St. Paul, Minn. suburb, was stopped by police 46 times and racked up more than $6, 000 in fines. Another curious statistic: Of all of the stops, only six of them were things a police officer would notice from outside a car  —   things like speeding or having a broken muffler.” During a week in Cleveland, photographer Gabriella Demczuk explored the ways that people embraced and challenged the Republican Party’s mission in this election  —   both from inside and outside the party. Then in Philadelphia, Demczuk continued her exploration of the fractures in America’s political system, examining the Democratic Party’s attempt to make itself ”stronger together.” True Believers, Protesters And Trump: Scenes From Cleveland, Dissent, Drama And Unity At The Democratic Convention, ” ’With recent events and political environment, these weapons will be harder to get a hold of.’ ’This is what your   dreams it could be when it grows up.’ ’I can meet . .. near the FL Mall in Orlando or any other time.” ”Cash is king.’ ”These classified advertisements for   weapons were listed on Armslist, a website where anyone can advertise a firearm they’d like to sell, and anyone can contact a seller with an offer to buy. The site is legal. But there’s no way to know whether buyers and sellers who meet through Armslist are following federal, state or local background check rules. ”We wanted to see how many   firearms  —   defined here as handguns and rifles able to rapidly fire a large number of bullets, one shot per trigger pull, without having to reload  —   can be currently found on Armslist, and how quickly new listings appear. This provides a window into the difficulty of regulating access to a type of weapon frequently used in mass shootings.” Our favorite albums of the year draw from all of the genres we cover at NPR Music, from rock, pop and   to classical, jazz, electronic and international artists. These are the records NPR Music couldn’t stop playing  —   albums that speak to a moment and a lifetime, that party, and that exist in their own worlds. Our list of the year’s best songs may begin with Beyoncé and end with Drake, but between those two stars you’ll find a   mix that celebrates all of the music we love. These are the pop anthems, rallying cries, party jams, riff rockers, perfumed piano pieces and emotional exorcisms that we loved to share this year. ”Across the country, private organizations,   groups and individuals quietly have been working to ease the plight of Syrian refugees. More than 11, 000 have arrived in the U. S. this year, fulfilling a pledge by the Obama administration. That figure far exceeds the number of Syrian refugees accepted during the previous four years of the Syrian war, and the White House is calling for a big bump in the overall number of refugees next year. ”It had been a long journey for Osama and Ghada and their four kids, who are among the nearly 5 million Syrians who have fled their homeland since the war began in 2011. They survived the war in Syria and had struggled for three years as refugees in Jordan when they were notified by the U. N. refugee agency, UNHCR, that they had been accepted for resettlement in the U. S.” ”There are huge gaps in school funding between affluent and   districts. And, with evidence that money matters, especially for disadvantaged kids, something has to change. ”School Money is a   nationwide collaboration between NPR’s Ed Team and 20 member station reporters exploring how states pay for their public schools and why many are failing to meet the needs of their most vulnerable students.” Is There A Better Way To Pay For America’s Schools? Why America’s Schools Have A Money Problem, President Obama spoke to NPR as he prepared to leave Washington for the holidays, reflecting on the year that was, the 2016 campaign and other news, plus revealing what he’s hearing from citizens. In the   exit interview, NPR’s Steve Inskeep asked Obama about Russian interference in the U. S. election, executive power, the future of the Democratic party and his future role.",
         "6"
        ],
        [
         "5",
         "I did not want to join yoga class. I hated those   beatific instructors. I worried that the people in the class could fold up like origami and I’d fold up like a bread stick. I understood the need for stretchy clothes but not for total anatomical disclosure. But my hip joints hurt and so did my shoulders, and my upper back hurt even more than my lower back and my brain would. not. shut. up. I asked my doctor about medication and he said he didn’t like the side effects and was pretty sure I wouldn’t, either. So I signed up for Gentle Mind and Body Yoga, the   of yoga classes. I think the principle is that you get into some pose that has cosmic implications and then hold the pose until you are enlightened or bored silly. I like the bridge pose, where you lie flat on your back and put a rubber block under your butt. I purely hate the eagle pose, where you wind your arms around each other and then wrap your legs around each other and stand on one foot I drop like a sprayed mosquito. The teacher is forgiving: ”Yogi’s choice,” she says, meaning that I’m now a yogi and I can do what I want. She says we’re not trying to get anywhere, and I deeply appreciate not trying to get anywhere. I enjoy a stretchy pose where you sit with a knee crossed over a leg and the opposite arm wrapped around the knee but the point is, says the teacher, to wring the toxins out of your internal organs. I’m not going to wring out my internal organs. Sometimes she wants us to lower our shoulders and raise our chests to open up our hearts  —   a phrase that gives me   creeps. The best is the sponge or corpse pose, which is what it sounds like. I’m fully competent at being a sponge, except you’re supposed to breathe in all the way up your left side and breathe out on your right because this activates your left and right brains. I just breathe on both sides. Then we sit on some     blankets that smell like unwashed humanity, with legs crossed. The teacher says this is called sukhasana which means easy seat, but it’s no such thing. So I stretch my legs out in front of me, yogi’s choice. We end in sukhasana with our hands in prayer and say to each other namaste, which is apparently Sanskrit for the godhead in me salutes the godhead in you, but which my brain hears as basta, which is Italian for stop it, enough. I’m OK with all this, even the pretend science which I’m free to ignore or better yet, to subject to my fellow Last Word on Nothing blogger Michelle Nijhuis’ stellar B******* Prevention Protocol (BPP) which in these days of blatant disinformation if you haven’t read, clipped out and taped to your computer screen, you may as well join an ant colony. Some b. s. you don’t need a protocol to detect, so I didn’t even try to find out whether twisting my body wrings the toxins out of my internal organs or whether breathing through my left nostril stimulates my right brain. But it’s true that after yoga, climbing steps doesn’t hurt, waiting for Greek carryout promised 15 minutes ago isn’t irritating, and on the drive home my brain doesn’t do anything except drive. Does yoga work? I’d answer this, but working through the full BPP takes time. So I took three shortcuts. One, I searched for yoga and efficacy in PubMed, the database of the National Library of Medicine, and skimmed the titles of review articles. No answer, or rather, too many answers: yoga for cancer, chronic low back pain, diabetes, cystitis, sleep disorders, hypertension, schizophrenia, depression, multiple sclerosis. And that was just on the first page. The second shortcut was no better. I searched the website of the National Academies Press, which publishes independent scientific analyses for the government. Yoga showed up in studies on pain management, alternative medicine, improving bus operators’ health and teens’ sleep habits, obesity, fitness, Gulf War syndrome, astronaut care and PTSD. The third shortcut was the Cochrane Reviews, independent reviews of medical information: same thing  —   yoga for asthma, cardiovascular disease, epilepsy. Bill Broad has probably answered all these questions in his book The Science of Yoga, but I’m not going to read it. My rule for any one thing that affects so many different diseases and functions is that it affects none of them and completely fails the BPP. Or else it affects something huge and general like mood or immune function that in turn affects everything else. What with lots of kinds of yogas, lots of different diseases, lots of different kinds of studies and    entities like mood or immune function, I’m giving up. I haven’t a clue whether yoga helps at all, let alone how. You’re on your own here. For myself, I’ll keep going, not because it’s not b. s. but because I like occasionally painless stairs and quiet brains. Besides, I’m finally getting competent at the infant version of the sun salute and I’ve learned never to look at the other people in the class. But I have no plans to advance to Beginning Yoga. Ann Finkbeiner is a science writer whose books include After the Death of a Child and The Jasons. She is   of the blog The Last Word on Nothing, where this essay first appeared. ",
         "5"
        ],
        [
         "6",
         "With a   who has publicly supported the debunked claim that vaccines cause autism, suggested that climate change is a hoax dreamed up by the Chinese, and appointed to his Cabinet a retired neurosurgeon who doesn’t buy the theory of evolution, things might look grim for science. Yet watching Patti Smith sing ”A Hard Rain’s   Fall” live streamed from the Nobel Prize ceremony in early December to a room full of physicists, chemists and physicians  —   watching her twice choke up, each time stopping the song altogether, only to push on through all seven wordy minutes of one of Bob Dylan’s most beloved songs  —   left me optimistic. Taking nothing away from the very real anxieties about future funding and support for science, neuroscience in particular has had plenty of promising leads that could help fulfill Alfred Nobel’s mission to better humanity. In the spirit of optimism, and with input from the Society for Neuroscience, here are a few of the noteworthy neuroscientific achievements of 2016. One of the more fascinating fields of neuroscience of late entails mapping the crosstalk between our biomes, brains and immune systems. In July, a group from the University of Virginia published a study in Nature showing that the immune system, in addition to protecting us from a daily barrage of potentially infectious microbes, can also influence social behavior. The researchers had previously shown that a type of white blood cells called T cells influence learning behavior in mice by communicating with the brain. Now they’ve shown that blocking T cell access to the brain influences rodent social preferences. It appears that interferon, an immune system factor released from T cells, is at least partly responsible for the findings. A single injection of interferon into the mice’s cerebrospinal fluid, the clear, protective fluid that bathes the brain and spinal cord, was enough to restore social behaviors. Lead author Jonathan Kipnis from the University of Virginia speculates that there might be an evolutionary linkage here  —   one protecting us from the increased pathogen exposure that comes with socializing. He also says the findings could help improve our understanding and treatment of brain disorders. Of course these findings were in rodents, but earlier work by Kipnis suggests that the brain and immune system communicate in similar ways in humans. Major advances were also made this year in joining human with machine. In October 2015, Hanneke de Bruijne, a    Dutch woman with Lou Gehrig’s disease, received a brain implant that would allow her to communicate simply by thinking. Eighty percent of patients suffering from amyotrophic lateral sclerosis, as the condition is also known, ultimately have trouble communicating because of muscle paralysis. At its extreme, this paralysis results in a tragic state called   syndrome, in which patients remain fully aware but can’t express themselves they become locked inside their own bodies. The new therapy, which comes on the heels of similar work out of East Tennessee State University, was developed by a team from the University Medical Center Utrecht in collaboration with Medtronic. It consists of four electrodes implanted over the motor region of the brain that connect to a wireless transmitter implanted in the chest. After 28 weeks of training, the device was able to recognize brain activity patterns that occur with thinking about typing a particular letter. Though de Bruijne’s muscles still can’t move, this   interface can now translate her brain waves  —   or her ”thoughts”  —   into text. Among the biggest neuroscience drug advances of the year was the Food and Drug Administration’s Dec. 23 approval of Biogen’s Spinraza, or nusinersen, the first treatment for spinal muscular atrophy. Spinal muscular atrophy is the No. 1 genetic cause of death in infants. Those affected by the devastating disorder carry a gene mutation that renders them unable to produce a protein essential to survival of neurons in the spinal cord. Gradually stripped of their abilities to walk, eat and breathe, most children struck with the disease don’t make it past 2 years old. Spinraza is a gene therapy that boosts the production of the essential protein. Despite possible side effects, which include bleeding complications, kidney toxicity and infection, the drug appears to work so well that two recent clinical trials were stopped early, as it was deemed unethical to withhold treatment from babies assigned to placebo groups. As with many other drugs for rare diseases, the price of Spinraza is expected to be high to help recoup research costs  —   perhaps as high as $250, 000 per year. The Alzheimer’s disease community also received welcome news this year. After hundreds of failed trials of potential treatments over the past couple of decades, the experimental drug aducanumab, also produced by Biogen, was found in early trials to slow the cognitive decline that comes with Alzheimer’s. And then there was the ongoing resurgence of psychedelic medicine. It’s been pretty well established that the hallucinogenic anesthetic ketamine may be an effective antidepressant. Now we have some potentially groundbreaking findings for psilocybin, the active compound in ”magic mushrooms.” Two clinical trials found that just a single high dose of the drug is effective at treating symptoms of both depression and anxiety in    patients. Scientists are unsure just how psilocybin works to relieve mental duress. But one theory holds that it disrupts   thought and fixation  —   common in those suffering from depression  —   allowing selfless cognition and experience to occur. In both trials the intensity of the patients’ ”mystical experiences” correlated with the decrease in symptoms. Both research groups strongly caution against recreational use or   with magic mushrooms, but the findings have many experts and institutions reconsidering the   of negative counterculture stigma surrounding psilocybin. The list of neuroscientific advances from the past 12 months goes on: The Human Connectome Project gave us the most complete map of the cerebral cortex to date a Canadian group revealed in part how fear memories are formed scientists at Mount Sinai charted the neurocircuitry behind social aggression. Still, the field of neuroscience remains, at best, in adolescence. As British novelist Matt Haig wrote in The Telegraph in 2015, ”Neuroscience is a baby science. . .. We know more about the moons of Jupiter than what is inside of our skulls.” As the year’s abundant advances attest, there is plenty of room left for discoveries in the coming year and beyond  —   and plenty of creative, eager researchers to make them. Bret Stetka is a writer based in New York and an editorial director at Medscape. His work has appeared in Wired, Scientific American and on The Atlantic. com. He graduated from University of Virginia School of Medicine in 2005. He’s also on Twitter: @BretStetka",
         "0"
        ],
        [
         "7",
         "I was standing by the airport exit, debating whether to get a snack, when a young man with a round face approached me. I focused hard to decipher his words. In a thick accent, he asked me to help him find his suitcase. As we walked to baggage claim, I learned his name: Edward Murinzi. This was his very first plane trip. A refugee from the Democratic Republic of Congo, he’d just arrived to begin his American life. Beside the luggage carousel at Washington’s Reagan Airport, he looked out at the two lanes of traffic and the concrete wall beyond. ”So this is America?” he said. From finding his bag to finding his apartment and finding a job, there was a lot for Edward to learn. Later, he acknowledged that while he was standing in the airport looking for his luggage, he felt the magnitude of the task before him. He says questions were zipping around his head: ”How will I start? You get scared. How will I manage?” After he found his bag and I called his caseworker to come and pick him up, we parted ways. He thanked me for being his ”Airport Teacher.” But, it seemed to me, he needed a teacher for the rest of America. That might as well be Claire Mukundente’s job description  —   not in Edward’s case but for many other refugees. Halfway across the country, in Chicago, Mukundente works for the   Association, a   nonprofit, and spends her days visiting new refugees and helping them adapt to a new country. How Does The Stove Work? Today, she’s headed into a   apartment building on the city’s north side. On the second floor, Alexia Mukambalaga and six of her family members share a   apartment. They arrived two weeks ago from Congo  —   by way of Rwanda and Niger. The family crowds around a folding table for lunch  —   some standing, others sitting. Within minutes of meeting them, they ask Mukundente why the food in America tastes like pineapples. It’s so sweet, they tell her. Mukundente says food is always one of the first lessons: How to get it, how to cook it and what’s healthy. She helps the family figure out what goes in the freezer and fridge, and how to use a stove. Mukundente says many Congolese have spent more than a decade in refugee camps, so a lot of the stuff in a kitchen is brand new to them. Grocery stores, too. ”Shopping can be a big deal, especially for your own food,” says Claire Mukundente. She often accompanies new arrivals to the grocery store, explaining how to evaluate dozens of different cereal brands and why it’s important to avoid the sugary drinks. Then she moves on to other lessons: the banking system and bus routes, social norms and gender dynamics. Mukundente says they talk about ”almost everything.” She says these families have learned a lot shuttling between countries and refugee camps, but when they come to a place like Chicago, many of those skills don’t translate. But Mukundente insists that she’s not their teacher. Instead she says, ”I see them as myself. Like me, when I came.” Claire Mukundente fled Rwanda in the 1990s during the genocide. And after traveling through seven countries, she arrived in Chicago. She cleaned hotel rooms, tried to learn English and scrambled to find daycare for her three kids. Ten years ago, she decided to start teaching other refugees what she’d learned. But not all refugees have someone like Claire Mukundente. Three months after I met Edward at the airport, I visited his   apartment. It was about 30 minutes outside Washington, and he shared it with several other refugees. (He has since moved to Louisville, Ky.) Sitting in the living room that doubled as his bedroom, he told me that soon after arriving he realized he needed to be his own teacher. So, he started observing everything. ”I tried to observe very silently,” he said in the room that functions as his living room, bedroom, kitchen and dining room. He learned to read a map and a bank statement. But Edward says there was more he called them ”invisible lessons  —   ideas.” The biggest one? ”Time was paramount to every success in America.” Edward said that, during his 20 years in a refugee camp in Uganda, time had never before been linked to money. Just being a person meant you got a food ration, he said. But here, he got a job  —   as a line worker  —   and he was paid hourly. ”Time was important. Important!” He told me that things have been hard during his first three months  —   America hadn’t quite been the Promised Land he expected. ”I remember the story in the Bible: The Exodus.” Back in the refugee camp, Edward said, he always thought life would be easy in America, akin to the Biblical land of milk and honey. But now, he finds himself having to remember that the Israelites struggled, as refugees and newcomers. Eventually though, they learned to adapt to life in a new land. Edward says he hopes he will too.",
         "0"
        ],
        [
         "8",
         "If movies were trying to be more realistic, perhaps the way to summon Batman shouldn’t have been the    —   it should have been the bat squeak. New research from the Bat Lab for   at Tel Aviv University found that bats are ”vocalizing” more information than many researchers previously thought. And researchers were able to decipher what the bats were squeaking to each other about  —   often they were bickering over things like food, sleep and mating. ”It’s not as if now we can understand everything. It’s not as if we have a    dictionary,” says Dr. Yossi Yovel, a   at Tel Aviv University and a member of the Bat Lab. ”But what we’ve found is that this cacophony that you could hear . .. actually contains much more information than previously believed. So, all of [this] shouting, all of these vocalizations that were previously all categorized as aggressive vocalizations, we can now divide them,” Yovel tells NPR’s Scott Simon. ”For example, we can classify whether the bats are arguing over food or over mating or over sleeping position or over other contexts,” he says. ”We can recognize the individuals vocalizing and we can even, to some extent, say who they are vocalizing to.” In a recent study, Yovel, along with researchers Yosef Prat and Mor Taub, monitored groups of Egyptian fruit bats with   audio and video recording for two and a half months. They say they analyzed almost 15, 000 bat vocalizations. Egyptian fruit bats are one of a small number of animal species to communicate    within their species, instead of ”broadcasting” their message. Bats do more than argue, Yovel says. But Egyptian fruit bats spend a lot of time arguing. ”Nearly all of the communication calls of the Egyptian fruit bat in the roost are emitted during aggressive pairwise interactions, involving squabbling over food or perching locations and protesting against mating attempts,” the researchers write. ”What they’re saying is stuff like: Why did you wake me up? Get out of my way,” Yovel says. ”In the case of mating, it’s usually the female protesting against a male who is trying to mate with her.” Context in bat communication was one focus of the study. If we humans say the word ”apple,” we imagine certain characteristics just from that word alone: a red color, a round shape, a certain taste, Yovel explains. ”This is something that is [a] very very important factor in human communication.” He says animals almost never demonstrate this ability. But their research shows that vocalizations between bats have more of this type of context than researchers knew about before. One goal of the research on bats is to apply it toward general knowledge of how different animals  —   including humans  —   communicate. ”It’s all part of a big question: How complex is animal communication?” Yovel says. ”Identifying context specific calls can be a first step toward the recovering of meaning in animal communication,” the researchers write. ”Understanding the encapsulated information in animal vocalizations is central to the study of sociality, communication, and language evolution.” So is there a   translator in the works? ”Step by step we are getting closer to deciphering their communication,” Yovel says. ”I don’t think we will  —   not in my time, at least  —   be able to really talk with them.”",
         "0"
        ],
        [
         "9",
         "Eighteen years ago, on New Year’s Eve, David Fisher visited an old farm in western Massachusetts, near the small town of Conway. No one was farming there at the time, and that’s what had drawn Fisher to the place. He was scouting for farmland. ”I remember walking out [to the fallow fields] at some point,” Fisher recalls. ”And in the moonlight  —   it was all snowy  —   it was like a blank canvas.” On that blank canvas, Fisher’s mind painted a picture of what could be there alongside the South River. He could see horses tilling the land  —   no tractors, no big machinery  —   and vegetable fields, and children running around. This is David Fisher’s American Dream. It may not be the conventional American Dream of upward economic mobility. But dreams like his have a long tradition in this country. Think of the Puritans and the Shakers and the Amish. These American dreams are the uncompromising pursuit of a difficult ideal. The scene that David Fisher imagined, on the New Year’s Eve almost two decades ago, has turned into reality. It’s called Natural Roots Farm. To get to the farm, you have to leave the motorized world behind. Cross the South River on a swinging footbridge, and there in front of you are seven acres of growing vegetables, neatly laid out in rows. It’s early in the fall, on this day the hillside beyond the fields is glowing with red and yellow leaves. It’s idyllic, almost magical. Anna Maclay is out checking on the fields. ”I came originally as an apprentice in 2002,” she tells me. ”Totally fell in love with the land. I just thought, ’I want to live here!” Her wish came true in a way she hadn’t expected. She and David Fisher fell in love and got married. They now have two   children: Leora and Gabriel. It’s a harvest day on the farm and David and Anna have some help. They’re joined by Emmet Van Driesche, who lives nearby on his own farm, and two apprentices, Kyle Farr and Calixta Killander, who are living and working on the farm for a year. Together, they’ll need to fill a wagon with spinach, beets, broccoli and a host of other vegetables and herbs. About two hundred customers have bought shares in the farm’s harvest. Among them is Maggie Potter. She arrives with her children to pick up her produce. ”It’s not only having the vegetables  —   the nourishment for our own bodies. It’s creating community, making friends along the way,” she says. If this all sounds like a vision of peace and contentment, take a closer look. Watch David Fisher at work. While the apprentices stick together in the fields, chatting as they work, Fisher works by himself, cutting greens off just above the soil, hacking out heads of broccoli. He moves quickly, with purpose in every step, almost never stopping, from daybreak until dusk. And when you talk with him, it becomes even clearer: He’s a very driven man. He’s driven, in fact, by a kind of desperation. And to understand it, you need to know his life story. David Fisher grew up in the suburbs north of New York City, in the village of Pleasantville, in Westchester County. He spent summers at a rustic camp in the Adirondacks. ”You could only get there by boat, you couldn’t drive there,” Fisher says. ”No electricity, bathe in the lake, live all summer in a tent.” Then, at the end of every summer, he’d get on a train back to Grand Central Station and it would hit him. ”Noise, steel and concrete and lights everywhere,” he recalls. It was an overwhelming sensory experience, and for young David, it wasn’t a pleasant one. When he was 15, that    paradigm shift was more than he could take. He was overtaken by despair over the environmental fate of the earth. ”I was like   this is craziness. The whole thing. Civilization as I’m seeing it is absurd. The way that humans are living on, consuming, destroying the earth is absurd,” he says. ”The only thing I could see to do was pack up and flee.” He determined to drop out of high school his parents forced him to get a diploma, graduating early. Then, Fisher got as far as he possibly could from houses and highways and smokestacks. He hung out in the west, skiing and backpacking, immersing himself in nature to ”soothe his soul,” as he puts it. He loved it, but he still knew, in the back of his mind, that it was just an escape. It wasn’t an enduring path out of his despair about the world. One day, when Fisher was 20 years old, he was back on the East Coast, visiting a friend at Hampshire College, here in western Massachusetts, and he wandered into the college’s small organic farm. It was another overwhelming sensory experience, but the opposite of Grand Central Station: ”Autumn leaves raining down, and the lush fields of vegetables and cover crops. Open the barn door, and the tables are lined with this abundance of earthy, healthy, vital produce. And I was like, ’Wow! ’” He felt like he was seeing, for the first time, a way to live immersed in the natural world, and also be productive. To make a living. He started learning to farm, from other farmers. And then he found this land near the town of Conway. You can call this farm utopian, if utopia is the kind of place where you work extra hard and live very frugally so that you can grow food in a way that’s more in harmony with nature. For instance: Half of the land on this farm is always devoted to ”cover crops” that don’t produce any food that customers will buy. The purpose of these crops is simply to protect and nourish the soil. His most defining choice, though, is to rely on horses as the primary source of power on the farm. Two of them, Pat and Lady, pull a wagon full of vegetables from the fields across the river and up a hill to a small barn beside the road where families come to pick up their produce. Kyle Farr, one of the apprentices, holds the reins and directs the horses with cryptic words and sucking sounds. David Fisher is committed to horses partly because it makes the farm more  . ”It’s so direct,” he says. He doesn’t have to rely on fossil fuels. ”The fuel is there in the grass. The power is right there, in the form of these live animals.” Also, he says, horses force you to work at a more natural rhythm. But there’s a cost, in the form of time. Horses need care and feeding every day, whether they’re pulling a wagon that day or not. Fisher learned this past year that two former apprentices at Natural Roots Farm who had learned to work with horses here and then adopted this method on their own farms, recently went back to farming with tractors. It bothers him. But he’s not giving up. Because for him, working with horses is one small answer to the despair that led him here. ”The environmental crisis is heavy. It’s a heavy, heavy situation. And to find any hope of effecting some sort of change, or examples [of change] is critical to my emotional, psychological ” he says. Over breakfast that day, I ask David, ”Are you a perfectionist?” He starts to deny it, but Anna cuts in. ”Yes!” she says. He and Anna both tell me that David’s driving ambition to build a better farm  —   constantly working, always starting some new project  —   has led to conflict between them. ”This is the   disagreement,” Anna says softly. ”I always think that we need to take on less, you know?” They’ve managed to keep this farm afloat for almost two decades now, but ”it’s still a serious struggle to make the economics of it work out,” David says. And apart from worries about money, they have to manage the logistics of a complicated life  —   200 families depending on a steady supply of produce from their farm, children in school and playing soccer, and their car parked on the other side of the river, a   walk from their rustic home. ”There’s not a lot that’s easy about living this way,” she says. ”But most of it feels pretty right. And I guess that’s turned out to be more important, for me.” Those are the words they often use, talking about their choices. This small, alternative American Dream, for them, just feels right.",
         "5"
        ]
       ],
       "shape": {
        "columns": 2,
        "rows": 10
       }
      },
      "text/html": [
       "<div>\n",
       "<style scoped>\n",
       "    .dataframe tbody tr th:only-of-type {\n",
       "        vertical-align: middle;\n",
       "    }\n",
       "\n",
       "    .dataframe tbody tr th {\n",
       "        vertical-align: top;\n",
       "    }\n",
       "\n",
       "    .dataframe thead th {\n",
       "        text-align: right;\n",
       "    }\n",
       "</style>\n",
       "<table border=\"1\" class=\"dataframe\">\n",
       "  <thead>\n",
       "    <tr style=\"text-align: right;\">\n",
       "      <th></th>\n",
       "      <th>Article</th>\n",
       "      <th>Topic</th>\n",
       "    </tr>\n",
       "  </thead>\n",
       "  <tbody>\n",
       "    <tr>\n",
       "      <th>0</th>\n",
       "      <td>In the Washington of 2016, even when the polic...</td>\n",
       "      <td>1</td>\n",
       "    </tr>\n",
       "    <tr>\n",
       "      <th>1</th>\n",
       "      <td>Donald Trump has used Twitter  —   his prefe...</td>\n",
       "      <td>1</td>\n",
       "    </tr>\n",
       "    <tr>\n",
       "      <th>2</th>\n",
       "      <td>Donald Trump is unabashedly praising Russian...</td>\n",
       "      <td>1</td>\n",
       "    </tr>\n",
       "    <tr>\n",
       "      <th>3</th>\n",
       "      <td>Updated at 2:50 p. m. ET, Russian President Vl...</td>\n",
       "      <td>3</td>\n",
       "    </tr>\n",
       "    <tr>\n",
       "      <th>4</th>\n",
       "      <td>From photography, illustration and video, to d...</td>\n",
       "      <td>6</td>\n",
       "    </tr>\n",
       "    <tr>\n",
       "      <th>5</th>\n",
       "      <td>I did not want to join yoga class. I hated tho...</td>\n",
       "      <td>5</td>\n",
       "    </tr>\n",
       "    <tr>\n",
       "      <th>6</th>\n",
       "      <td>With a   who has publicly supported the debunk...</td>\n",
       "      <td>0</td>\n",
       "    </tr>\n",
       "    <tr>\n",
       "      <th>7</th>\n",
       "      <td>I was standing by the airport exit, debating w...</td>\n",
       "      <td>0</td>\n",
       "    </tr>\n",
       "    <tr>\n",
       "      <th>8</th>\n",
       "      <td>If movies were trying to be more realistic, pe...</td>\n",
       "      <td>0</td>\n",
       "    </tr>\n",
       "    <tr>\n",
       "      <th>9</th>\n",
       "      <td>Eighteen years ago, on New Year’s Eve, David F...</td>\n",
       "      <td>5</td>\n",
       "    </tr>\n",
       "  </tbody>\n",
       "</table>\n",
       "</div>"
      ],
      "text/plain": [
       "                                             Article  Topic\n",
       "0  In the Washington of 2016, even when the polic...      1\n",
       "1    Donald Trump has used Twitter  —   his prefe...      1\n",
       "2    Donald Trump is unabashedly praising Russian...      1\n",
       "3  Updated at 2:50 p. m. ET, Russian President Vl...      3\n",
       "4  From photography, illustration and video, to d...      6\n",
       "5  I did not want to join yoga class. I hated tho...      5\n",
       "6  With a   who has publicly supported the debunk...      0\n",
       "7  I was standing by the airport exit, debating w...      0\n",
       "8  If movies were trying to be more realistic, pe...      0\n",
       "9  Eighteen years ago, on New Year’s Eve, David F...      5"
      ]
     },
     "execution_count": 40,
     "metadata": {},
     "output_type": "execute_result"
    }
   ],
   "source": [
    "npr.head(10)"
   ]
  },
  {
   "cell_type": "markdown",
   "metadata": {},
   "source": [
    "## Great work!"
   ]
  }
 ],
 "metadata": {
  "kernelspec": {
   "display_name": "Python 3",
   "language": "python",
   "name": "python3"
  },
  "language_info": {
   "codemirror_mode": {
    "name": "ipython",
    "version": 3
   },
   "file_extension": ".py",
   "mimetype": "text/x-python",
   "name": "python",
   "nbconvert_exporter": "python",
   "pygments_lexer": "ipython3",
   "version": "3.13.5"
  }
 },
 "nbformat": 4,
 "nbformat_minor": 2
}
