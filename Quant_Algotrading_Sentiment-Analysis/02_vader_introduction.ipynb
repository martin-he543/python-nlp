{
 "cells": [
  {
   "cell_type": "markdown",
   "id": "ec852b83",
   "metadata": {},
   "source": [
    "# VADER Introduction"
   ]
  },
  {
   "cell_type": "code",
   "execution_count": 13,
   "id": "e24830f3",
   "metadata": {},
   "outputs": [
    {
     "data": {
      "text/plain": [
       "{'neg': 0.618, 'neu': 0.382, 'pos': 0.0, 'compound': -0.4995}"
      ]
     },
     "execution_count": 13,
     "metadata": {},
     "output_type": "execute_result"
    }
   ],
   "source": [
    "from vaderSentiment.vaderSentiment import SentimentIntensityAnalyzer\n",
    "\n",
    "# Initialize VADER sentiment analyzer\n",
    "analyser = SentimentIntensityAnalyzer()\n",
    "\n",
    "analyser.polarity_scores(\"This is a good course\")\n",
    "analyser.polarity_scores(\"This is an awesome course\")\n",
    "analyser.polarity_scores(\"The instructor is so cool\")\n",
    "analyser.polarity_scores(\"The instructor is so cool!!\")\n",
    "analyser.polarity_scores(\"The instructor is so COOL!!\")\n",
    "analyser.polarity_scores(\"Machine learning makes me :)\")\n",
    "analyser.polarity_scores(\"His antics had me ROFL\")\n",
    "analyser.polarity_scores(\"The movie SUX\")"
   ]
  }
 ],
 "metadata": {
  "kernelspec": {
   "display_name": "Python 3",
   "language": "python",
   "name": "python3"
  },
  "language_info": {
   "codemirror_mode": {
    "name": "ipython",
    "version": 3
   },
   "file_extension": ".py",
   "mimetype": "text/x-python",
   "name": "python",
   "nbconvert_exporter": "python",
   "pygments_lexer": "ipython3",
   "version": "3.13.1"
  }
 },
 "nbformat": 4,
 "nbformat_minor": 5
}
