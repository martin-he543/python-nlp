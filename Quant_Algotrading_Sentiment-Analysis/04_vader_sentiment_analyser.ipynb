{
 "cells": [
  {
   "cell_type": "markdown",
   "id": "b95db005",
   "metadata": {},
   "source": [
    "# Building a Sentiment Analyser Using VADER"
   ]
  },
  {
   "cell_type": "code",
   "execution_count": 1,
   "id": "9a2c4f7d",
   "metadata": {},
   "outputs": [],
   "source": [
    "import requests\n",
    "from bs4 import BeautifulSoup\n",
    "import pandas as pd\n",
    "from vaderSentiment.vaderSentiment import SentimentIntensityAnalyzer"
   ]
  },
  {
   "cell_type": "code",
   "execution_count": null,
   "id": "8614ea64",
   "metadata": {},
   "outputs": [],
   "source": [
    "url_list = []\n",
    "date_time = []\n",
    "news_text = []\n",
    "headlines = []\n",
    "\n",
    "for i in range(1, 3):\n",
    "    url = 'https://oilprice.com/Energy/Crude-Oil/Page-{}.html'.format(i)\n",
    "    request = requests.get(url)\n",
    "    soup = BeautifulSoup(request.text, 'html.parser')\n",
    "    for links in soup.find_all"
   ]
  }
 ],
 "metadata": {
  "kernelspec": {
   "display_name": "Python 3",
   "language": "python",
   "name": "python3"
  },
  "language_info": {
   "codemirror_mode": {
    "name": "ipython",
    "version": 3
   },
   "file_extension": ".py",
   "mimetype": "text/x-python",
   "name": "python",
   "nbconvert_exporter": "python",
   "pygments_lexer": "ipython3",
   "version": "3.13.1"
  }
 },
 "nbformat": 4,
 "nbformat_minor": 5
}
